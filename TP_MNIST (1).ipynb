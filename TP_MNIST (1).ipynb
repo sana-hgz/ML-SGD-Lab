{
  "cells": [
    {
      "cell_type": "code",
      "execution_count": 1,
      "id": "149938de",
      "metadata": {
        "id": "149938de"
      },
      "outputs": [],
      "source": [
        "import numpy as np\n",
        "import tensorflow as tf\n",
        "from tensorflow import keras\n",
        "from tensorflow.keras import layers\n",
        "import matplotlib.pyplot as plt"
      ]
    },
    {
      "cell_type": "markdown",
      "id": "657ee878-16b7-46ab-811d-48aebc085cf1",
      "metadata": {
        "id": "657ee878-16b7-46ab-811d-48aebc085cf1"
      },
      "source": [
        "# 1. Loading the data"
      ]
    },
    {
      "cell_type": "code",
      "execution_count": 2,
      "id": "9afc7a6a-14b1-4bf8-8cbf-f15d61a2c1ac",
      "metadata": {
        "colab": {
          "base_uri": "https://localhost:8080/"
        },
        "id": "9afc7a6a-14b1-4bf8-8cbf-f15d61a2c1ac",
        "outputId": "d64c7227-0a3e-4da0-dcff-69eb97326f3e"
      },
      "outputs": [
        {
          "output_type": "stream",
          "name": "stdout",
          "text": [
            "Downloading data from https://storage.googleapis.com/tensorflow/tf-keras-datasets/mnist.npz\n",
            "\u001b[1m11490434/11490434\u001b[0m \u001b[32m━━━━━━━━━━━━━━━━━━━━\u001b[0m\u001b[37m\u001b[0m \u001b[1m1s\u001b[0m 0us/step\n"
          ]
        }
      ],
      "source": [
        "train_data, test_data = tf.keras.datasets.mnist.load_data(path=\"mnist.npz\")\n",
        "x_train = train_data[0].reshape(-1,784).astype(float) / 255\n",
        "y_train = train_data[1]"
      ]
    },
    {
      "cell_type": "code",
      "execution_count": 3,
      "id": "76f055f2-a9f7-4905-bab0-d2d53287b65e",
      "metadata": {
        "colab": {
          "base_uri": "https://localhost:8080/",
          "height": 466
        },
        "id": "76f055f2-a9f7-4905-bab0-d2d53287b65e",
        "outputId": "44631044-675b-4c3d-be4a-f99b724d44f2"
      },
      "outputs": [
        {
          "output_type": "stream",
          "name": "stdout",
          "text": [
            "label is 1\n"
          ]
        },
        {
          "output_type": "execute_result",
          "data": {
            "text/plain": [
              "<matplotlib.image.AxesImage at 0x78509ed6f4d0>"
            ]
          },
          "metadata": {},
          "execution_count": 3
        },
        {
          "output_type": "display_data",
          "data": {
            "text/plain": [
              "<Figure size 640x480 with 1 Axes>"
            ],
            "image/png": "[encoded data removed]"
          },
          "metadata": {}
        }
      ],
      "source": [
        "# exploring the data\n",
        "i = np.random.randint(y_train.size)\n",
        "\n",
        "print(\"label is\", y_train[i])\n",
        "plt.imshow(train_data[0][i], cmap='gray')"
      ]
    },
    {
      "cell_type": "markdown",
      "id": "8feee3fb-8b54-4cd2-8ee1-a003d1292f8a",
      "metadata": {
        "id": "8feee3fb-8b54-4cd2-8ee1-a003d1292f8a"
      },
      "source": [
        "# 2. Building the model\n",
        "\n",
        "We use Keras to build a fully-connected neural network.\n",
        "\n",
        "For more details, see https://keras.io/guides/training_with_built_in_methods/"
      ]
    },
    {
      "cell_type": "code",
      "execution_count": 4,
      "id": "4b521b78",
      "metadata": {
        "colab": {
          "base_uri": "https://localhost:8080/",
          "height": 257
        },
        "id": "4b521b78",
        "outputId": "a7bb7e10-8042-4a65-f3b0-aa161502ba72"
      },
      "outputs": [
        {
          "output_type": "display_data",
          "data": {
            "text/plain": [
              "\u001b[1mModel: \"mnist_model\"\u001b[0m\n"
            ],
            "text/html": [
              "<pre style=\"white-space:pre;overflow-x:auto;line-height:normal;font-family:Menlo,'DejaVu Sans Mono',consolas,'Courier New',monospace\"><span style=\"font-weight: bold\">Model: \"mnist_model\"</span>\n",
              "</pre>\n"
            ]
          },
          "metadata": {}
        },
        {
          "output_type": "display_data",
          "data": {
            "text/plain": [
              "┏━━━━━━━━━━━━━━━━━━━━━━━━━━━━━━━━━━━━━━┳━━━━━━━━━━━━━━━━━━━━━━━━━━━━━┳━━━━━━━━━━━━━━━━━┓\n",
              "┃\u001b[1m \u001b[0m\u001b[1mLayer (type)                        \u001b[0m\u001b[1m \u001b[0m┃\u001b[1m \u001b[0m\u001b[1mOutput Shape               \u001b[0m\u001b[1m \u001b[0m┃\u001b[1m \u001b[0m\u001b[1m        Param #\u001b[0m\u001b[1m \u001b[0m┃\n",
              "┡━━━━━━━━━━━━━━━━━━━━━━━━━━━━━━━━━━━━━━╇━━━━━━━━━━━━━━━━━━━━━━━━━━━━━╇━━━━━━━━━━━━━━━━━┩\n",
              "│ digits (\u001b[38;5;33mInputLayer\u001b[0m)                  │ (\u001b[38;5;45mNone\u001b[0m, \u001b[38;5;34m784\u001b[0m)                 │               \u001b[38;5;34m0\u001b[0m │\n",
              "├──────────────────────────────────────┼─────────────────────────────┼─────────────────┤\n",
              "│ dense_1 (\u001b[38;5;33mDense\u001b[0m)                      │ (\u001b[38;5;45mNone\u001b[0m, \u001b[38;5;34m32\u001b[0m)                  │          \u001b[38;5;34m25,120\u001b[0m │\n",
              "├──────────────────────────────────────┼─────────────────────────────┼─────────────────┤\n",
              "│ dense_2 (\u001b[38;5;33mDense\u001b[0m)                      │ (\u001b[38;5;45mNone\u001b[0m, \u001b[38;5;34m32\u001b[0m)                  │           \u001b[38;5;34m1,056\u001b[0m │\n",
              "├──────────────────────────────────────┼─────────────────────────────┼─────────────────┤\n",
              "│ predictions (\u001b[38;5;33mDense\u001b[0m)                  │ (\u001b[38;5;45mNone\u001b[0m, \u001b[38;5;34m10\u001b[0m)                  │             \u001b[38;5;34m330\u001b[0m │\n",
              "└──────────────────────────────────────┴─────────────────────────────┴─────────────────┘\n"
            ],
            "text/html": [
              "<pre style=\"white-space:pre;overflow-x:auto;line-height:normal;font-family:Menlo,'DejaVu Sans Mono',consolas,'Courier New',monospace\">┏━━━━━━━━━━━━━━━━━━━━━━━━━━━━━━━━━━━━━━┳━━━━━━━━━━━━━━━━━━━━━━━━━━━━━┳━━━━━━━━━━━━━━━━━┓\n",
              "┃<span style=\"font-weight: bold\"> Layer (type)                         </span>┃<span style=\"font-weight: bold\"> Output Shape                </span>┃<span style=\"font-weight: bold\">         Param # </span>┃\n",
              "┡━━━━━━━━━━━━━━━━━━━━━━━━━━━━━━━━━━━━━━╇━━━━━━━━━━━━━━━━━━━━━━━━━━━━━╇━━━━━━━━━━━━━━━━━┩\n",
              "│ digits (<span style=\"color: #0087ff; text-decoration-color: #0087ff\">InputLayer</span>)                  │ (<span style=\"color: #00d7ff; text-decoration-color: #00d7ff\">None</span>, <span style=\"color: #00af00; text-decoration-color: #00af00\">784</span>)                 │               <span style=\"color: #00af00; text-decoration-color: #00af00\">0</span> │\n",
              "├──────────────────────────────────────┼─────────────────────────────┼─────────────────┤\n",
              "│ dense_1 (<span style=\"color: #0087ff; text-decoration-color: #0087ff\">Dense</span>)                      │ (<span style=\"color: #00d7ff; text-decoration-color: #00d7ff\">None</span>, <span style=\"color: #00af00; text-decoration-color: #00af00\">32</span>)                  │          <span style=\"color: #00af00; text-decoration-color: #00af00\">25,120</span> │\n",
              "├──────────────────────────────────────┼─────────────────────────────┼─────────────────┤\n",
              "│ dense_2 (<span style=\"color: #0087ff; text-decoration-color: #0087ff\">Dense</span>)                      │ (<span style=\"color: #00d7ff; text-decoration-color: #00d7ff\">None</span>, <span style=\"color: #00af00; text-decoration-color: #00af00\">32</span>)                  │           <span style=\"color: #00af00; text-decoration-color: #00af00\">1,056</span> │\n",
              "├──────────────────────────────────────┼─────────────────────────────┼─────────────────┤\n",
              "│ predictions (<span style=\"color: #0087ff; text-decoration-color: #0087ff\">Dense</span>)                  │ (<span style=\"color: #00d7ff; text-decoration-color: #00d7ff\">None</span>, <span style=\"color: #00af00; text-decoration-color: #00af00\">10</span>)                  │             <span style=\"color: #00af00; text-decoration-color: #00af00\">330</span> │\n",
              "└──────────────────────────────────────┴─────────────────────────────┴─────────────────┘\n",
              "</pre>\n"
            ]
          },
          "metadata": {}
        },
        {
          "output_type": "display_data",
          "data": {
            "text/plain": [
              "\u001b[1m Total params: \u001b[0m\u001b[38;5;34m26,506\u001b[0m (103.54 KB)\n"
            ],
            "text/html": [
              "<pre style=\"white-space:pre;overflow-x:auto;line-height:normal;font-family:Menlo,'DejaVu Sans Mono',consolas,'Courier New',monospace\"><span style=\"font-weight: bold\"> Total params: </span><span style=\"color: #00af00; text-decoration-color: #00af00\">26,506</span> (103.54 KB)\n",
              "</pre>\n"
            ]
          },
          "metadata": {}
        },
        {
          "output_type": "display_data",
          "data": {
            "text/plain": [
              "\u001b[1m Trainable params: \u001b[0m\u001b[38;5;34m26,506\u001b[0m (103.54 KB)\n"
            ],
            "text/html": [
              "<pre style=\"white-space:pre;overflow-x:auto;line-height:normal;font-family:Menlo,'DejaVu Sans Mono',consolas,'Courier New',monospace\"><span style=\"font-weight: bold\"> Trainable params: </span><span style=\"color: #00af00; text-decoration-color: #00af00\">26,506</span> (103.54 KB)\n",
              "</pre>\n"
            ]
          },
          "metadata": {}
        },
        {
          "output_type": "display_data",
          "data": {
            "text/plain": [
              "\u001b[1m Non-trainable params: \u001b[0m\u001b[38;5;34m0\u001b[0m (0.00 B)\n"
            ],
            "text/html": [
              "<pre style=\"white-space:pre;overflow-x:auto;line-height:normal;font-family:Menlo,'DejaVu Sans Mono',consolas,'Courier New',monospace\"><span style=\"font-weight: bold\"> Non-trainable params: </span><span style=\"color: #00af00; text-decoration-color: #00af00\">0</span> (0.00 B)\n",
              "</pre>\n"
            ]
          },
          "metadata": {}
        }
      ],
      "source": [
        "# source : https://keras.io/guides/training_with_built_in_methods/\n",
        "\n",
        "def build_model():\n",
        "    inputs = keras.Input(shape=(784,), name=\"digits\")\n",
        "    x = layers.Dense(32, activation=\"relu\", name=\"dense_1\")(inputs)\n",
        "    x = layers.Dense(32, activation=\"relu\", name=\"dense_2\")(x)\n",
        "    outputs = layers.Dense(10, activation=\"softmax\", name=\"predictions\")(x)\n",
        "\n",
        "    model = keras.Model(inputs=inputs, outputs=outputs, name=\"mnist_model\")\n",
        "    return model\n",
        "\n",
        "model = build_model()\n",
        "\n",
        "loss = keras.losses.sparse_categorical_crossentropy\n",
        "\n",
        "model.summary()"
      ]
    },
    {
      "cell_type": "code",
      "execution_count": 5,
      "id": "f4b09699",
      "metadata": {
        "colab": {
          "base_uri": "https://localhost:8080/"
        },
        "id": "f4b09699",
        "outputId": "a0167733-35fe-48c1-c094-fba4ef04a6f3"
      },
      "outputs": [
        {
          "output_type": "stream",
          "name": "stdout",
          "text": [
            "Numeber of optimization variables: 26506\n"
          ]
        }
      ],
      "source": [
        "#question 4\n",
        "\n",
        "print(f\"Numeber of optimization variables: {model.count_params()}\")"
      ]
    },
    {
      "cell_type": "code",
      "execution_count": 6,
      "id": "b18b6bdb",
      "metadata": {
        "colab": {
          "base_uri": "https://localhost:8080/"
        },
        "id": "b18b6bdb",
        "outputId": "254c64ad-9f53-4ee4-a57f-b116859798dd"
      },
      "outputs": [
        {
          "output_type": "execute_result",
          "data": {
            "text/plain": [
              "array([9, 9, 2, 5, 8, 8, 9, 9, 8, 9, 9, 4, 9, 8, 3, 5, 8, 9, 5, 9, 9, 3,\n",
              "       9, 5, 3, 9, 7, 9, 8, 3])"
            ]
          },
          "metadata": {},
          "execution_count": 6
        }
      ],
      "source": [
        "# untrained model\n",
        "predicted_probas = model(x_train)\n",
        "y_pred = np.argmax(predicted_probas, 1) # the prediction is the class with highest probability\n",
        "y_pred[0:30]"
      ]
    },
    {
      "cell_type": "code",
      "execution_count": 7,
      "id": "35d74f67",
      "metadata": {
        "colab": {
          "base_uri": "https://localhost:8080/"
        },
        "id": "35d74f67",
        "outputId": "32fbbd25-4990-4f64-ce36-d00892b43103"
      },
      "outputs": [
        {
          "output_type": "execute_result",
          "data": {
            "text/plain": [
              "array([5, 0, 4, 1, 9, 2, 1, 3, 1, 4, 3, 5, 3, 6, 1, 7, 2, 8, 6, 9, 4, 0,\n",
              "       9, 1, 1, 2, 4, 3, 2, 7], dtype=uint8)"
            ]
          },
          "metadata": {},
          "execution_count": 7
        }
      ],
      "source": [
        "# what we would like to get\n",
        "y_train[0:30]"
      ]
    },
    {
      "cell_type": "markdown",
      "id": "a2c1255b-36d0-4d05-a5a0-fa9408742b56",
      "metadata": {
        "id": "a2c1255b-36d0-4d05-a5a0-fa9408742b56"
      },
      "source": [
        "# 3. Computing gradients\n",
        "\n",
        "We are now going to implement the stochastic gradient method using the Keras functionalities.\n",
        "\n",
        "First, we need to understand how to compute gradients using auto-differentation (also called **backpropagation**)."
      ]
    },
    {
      "cell_type": "code",
      "execution_count": 8,
      "id": "e7cbc050-6044-4149-9354-0d3870837d82",
      "metadata": {
        "id": "e7cbc050-6044-4149-9354-0d3870837d82"
      },
      "outputs": [],
      "source": [
        "# Source: https://keras.io/guides/writing_a_custom_training_loop_in_tensorflow/\n",
        "\n",
        "# Example of gradient computation using automatic differentiation\n",
        "\n",
        "# selecting a batch\n",
        "x_train_batch = x_train[:8]\n",
        "y_train_batch = y_train[:8]\n",
        "\n",
        "# Open a GradientTape to record the operations run\n",
        "# during the forward pass, which enables auto-differentiation.\n",
        "with tf.GradientTape() as tape:\n",
        "        # Run the forward pass of the layer.\n",
        "        # The operations that the layer applies\n",
        "        # to its inputs are going to be recorded\n",
        "        # on the GradientTape.\n",
        "\n",
        "        logits = model(x_train_batch)  # Logits for this minibatch (the logits are the name we give to the Neural Network output)\n",
        "\n",
        "        # Compute the loss value for this minibatch.\n",
        "        loss_value = loss(y_train_batch, logits)\n",
        "\n",
        "# Use the gradient tape to automatically retrieve\n",
        "# the gradients of the trainable variables with respect to the loss.\n",
        "grad = tape.gradient(loss_value, model.trainable_weights)"
      ]
    },
    {
      "cell_type": "markdown",
      "id": "f2f189a1-5cec-4723-93fc-8693ec8d6a5c",
      "metadata": {
        "id": "f2f189a1-5cec-4723-93fc-8693ec8d6a5c"
      },
      "source": [
        "We also define two important helper functions."
      ]
    },
    {
      "cell_type": "code",
      "execution_count": 9,
      "id": "dab2abd2-91e5-4b9e-a863-e1e3ea3dcd64",
      "metadata": {
        "id": "dab2abd2-91e5-4b9e-a863-e1e3ea3dcd64"
      },
      "outputs": [],
      "source": [
        "## update the weights by adding real_factor * update\n",
        "def update_weights(model, update, real_factor = 1.):\n",
        "    new_weights = model.trainable_weights.copy()\n",
        "\n",
        "    # iterate over all layers\n",
        "    for i in range(len(new_weights)):\n",
        "        new_weights[i] = new_weights[i] + real_factor * update[i]\n",
        "\n",
        "    model.set_weights(new_weights)\n",
        "\n",
        "\n",
        "# Evaluate model\n",
        "def mean_loss(model, X, Y):\n",
        "    logits = model(X)\n",
        "    return np.mean(loss(Y, logits))"
      ]
    },
    {
      "cell_type": "code",
      "execution_count": 10,
      "id": "9c11dcf5-bcd8-403b-ae60-41c755b5c5ec",
      "metadata": {
        "colab": {
          "base_uri": "https://localhost:8080/"
        },
        "id": "9c11dcf5-bcd8-403b-ae60-41c755b5c5ec",
        "outputId": "587db78f-0545-4c31-a42f-afb4fa8cf895"
      },
      "outputs": [
        {
          "output_type": "execute_result",
          "data": {
            "text/plain": [
              "2.3482049"
            ]
          },
          "metadata": {},
          "execution_count": 10
        }
      ],
      "source": [
        "# evaluating the train loss on the whole dataset\n",
        "# this is a costly operation, use sparsely\n",
        "mean_loss(model, x_train, y_train)"
      ]
    },
    {
      "cell_type": "markdown",
      "id": "ae0785ce-c5e2-4103-b4a8-1b10df2abf4d",
      "metadata": {
        "id": "ae0785ce-c5e2-4103-b4a8-1b10df2abf4d"
      },
      "source": [
        "# 4. Training the model"
      ]
    },
    {
      "cell_type": "code",
      "execution_count": 11,
      "id": "352dfd39",
      "metadata": {
        "id": "352dfd39"
      },
      "outputs": [],
      "source": [
        "# Algorithme SGD sans mini-batching\n",
        "def SGD_without_minibatch(model, x_train, y_train, learning_rate, epochs=1, log_interval=2000):\n",
        "    # Liste pour stocker les pertes et les itérations associées\n",
        "    loss_history = []\n",
        "    iterations = []\n",
        "\n",
        "    # Vérification des NaN dans les données\n",
        "    if np.isnan(x_train).any() or np.isnan(y_train).any():\n",
        "        raise ValueError(\"Les données d'entrée contiennent des valeurs NaN.\")\n",
        "\n",
        "    iteration_count = 0  # Compteur global d'itérations\n",
        "\n",
        "    for epoch in range(epochs):\n",
        "        epoch_loss = 0.0  # Cumul de la perte pour l'époque\n",
        "        num_samples = len(x_train)\n",
        "\n",
        "        for i in range(num_samples//2):\n",
        "            x_sample = x_train[i:i+1]  # Un seul échantillon\n",
        "            y_sample = y_train[i:i+1]  # Étiquette correspondante\n",
        "\n",
        "            with tf.GradientTape() as tape:\n",
        "                logits = model(x_sample)  # Prédictions pour un échantillon\n",
        "                # Calcul de la perte pour l'échantillon actuel\n",
        "                loss_value = tf.reduce_mean(\n",
        "                    tf.keras.losses.sparse_categorical_crossentropy(y_sample, logits)\n",
        "                )\n",
        "\n",
        "            # Vérification que la perte est valide\n",
        "            if tf.math.is_nan(loss_value):\n",
        "                raise ValueError(\"La perte est NaN. Vérifiez vos données ou votre modèle.\")\n",
        "\n",
        "            # Calcul des gradients\n",
        "            grads = tape.gradient(loss_value, model.trainable_weights)\n",
        "\n",
        "            # Mise à jour des poids du modèle\n",
        "            update_weights(model, grads, real_factor=-learning_rate)\n",
        "\n",
        "            # Accumulation de la perte pour l'époque\n",
        "            epoch_loss += loss_value.numpy()\n",
        "\n",
        "            # Calcul de la perte toutes les `log_interval` itérations\n",
        "            if iteration_count % log_interval == 0:\n",
        "                total_loss = tf.reduce_mean(\n",
        "                    tf.keras.losses.sparse_categorical_crossentropy(y_train, model(x_train))\n",
        "                ).numpy()\n",
        "                loss_history.append(total_loss)\n",
        "                iterations.append(iteration_count)\n",
        "                print(f\"Iteration {iteration_count}, Loss: {total_loss:.4f}\")\n",
        "\n",
        "            iteration_count += 1\n",
        "\n",
        "        # Affichage de la perte moyenne à la fin de l'époque\n",
        "        average_epoch_loss = epoch_loss / num_samples\n",
        "        print(f\"Epoch {epoch + 1}/{epochs}, Average Loss: {average_epoch_loss:.4f}\")\n",
        "\n",
        "    # Retourner l'historique des pertes et les itérations correspondantes\n",
        "    return iterations, loss_history"
      ]
    },
    {
      "cell_type": "code",
      "execution_count": 12,
      "id": "1ff2acb6",
      "metadata": {
        "colab": {
          "base_uri": "https://localhost:8080/"
        },
        "id": "1ff2acb6",
        "outputId": "942e71b9-9e9b-4137-969e-74f4954a9e07"
      },
      "outputs": [
        {
          "output_type": "stream",
          "name": "stdout",
          "text": [
            "60000\n"
          ]
        }
      ],
      "source": [
        "print(len(x_train))"
      ]
    },
    {
      "cell_type": "code",
      "execution_count": 13,
      "id": "52744328",
      "metadata": {
        "colab": {
          "base_uri": "https://localhost:8080/"
        },
        "id": "52744328",
        "outputId": "8d78f9bb-4eee-491e-f431-9782876ecf35"
      },
      "outputs": [
        {
          "output_type": "stream",
          "name": "stdout",
          "text": [
            "Iteration 0, Loss: 2.3287\n",
            "Iteration 2000, Loss: 0.7219\n",
            "Iteration 4000, Loss: 0.3956\n",
            "Iteration 6000, Loss: 0.4077\n",
            "Iteration 8000, Loss: 0.4488\n",
            "Iteration 10000, Loss: 0.3177\n",
            "Iteration 12000, Loss: 0.3137\n",
            "Iteration 14000, Loss: 0.3131\n",
            "Iteration 16000, Loss: 0.2589\n",
            "Iteration 18000, Loss: 0.2412\n",
            "Iteration 20000, Loss: 0.2345\n",
            "Iteration 22000, Loss: 0.2916\n",
            "Iteration 24000, Loss: 0.2377\n",
            "Iteration 26000, Loss: 0.2394\n",
            "Iteration 28000, Loss: 0.2147\n",
            "Epoch 1/1, Average Loss: 0.1694\n"
          ]
        }
      ],
      "source": [
        "# initialize model\n",
        "model = build_model()\n",
        "# Entraînement du model\n",
        "iterations,loss_history =SGD_without_minibatch(model, x_train, y_train, learning_rate=0.01, epochs=1)"
      ]
    },
    {
      "cell_type": "code",
      "execution_count": 14,
      "id": "959375a8",
      "metadata": {
        "colab": {
          "base_uri": "https://localhost:8080/",
          "height": 472
        },
        "id": "959375a8",
        "outputId": "08596199-18b9-4d7e-bb4d-4a9da80d239c"
      },
      "outputs": [
        {
          "output_type": "display_data",
          "data": {
            "text/plain": [
              "<Figure size 640x480 with 1 Axes>"
            ],
            "image/png": "[encoded data removed]"
          },
          "metadata": {}
        }
      ],
      "source": [
        "#Q5.2\n",
        "plt.plot(iterations, loss_history, marker='o')\n",
        "plt.xlabel(\"Iterations\")\n",
        "plt.ylabel(\"Loss (Objective Value)\")\n",
        "plt.title(\"Loss vs Iterations (One Pass Over the Data)\")\n",
        "plt.grid(True)\n",
        "plt.show()"
      ]
    },
    {
      "cell_type": "markdown",
      "source": [
        "Des learning rates plus élevés (0.1 et 0.01) permettent une convergence plus rapide de la perte par rapport à un learning rate plus faible (0.001).\n",
        "\n",
        "  -Avec un learning rate de 0.1, la perte diminue très rapidement, atteignant une valeur inférieure à 0.2 dès les premières itérations, ce qui indique une convergence efficace.            \n",
        "  -Le learning rate de 0.01 affiche également une bonne descente de la perte, bien qu'un peu plus lente que 0.10.1, atteignant environ 0.4 après 1500 itérations.        \n",
        "  -En revanche, le learning rate de 0.001 montre une convergence très lente, avec une perte qui reste élevée (~1.8), illustrant un sous-apprentissage après le même nombre d'itérations.\n",
        "\n",
        "Cela démontre que le choix du learning rate est crucial : un taux trop petit ralentit l'apprentissage, tandis qu'un taux modéré (comme 0.1 ici) permet d'apprendre rapidement sans instabilité apparente. 🚀"
      ],
      "metadata": {
        "id": "a4tqKoOBwTmO"
      },
      "id": "a4tqKoOBwTmO"
    },
    {
      "cell_type": "code",
      "execution_count": 15,
      "id": "9cd18be6",
      "metadata": {
        "colab": {
          "base_uri": "https://localhost:8080/"
        },
        "id": "9cd18be6",
        "outputId": "9fec47a6-178d-4b48-b27b-db947cb2cde4"
      },
      "outputs": [
        {
          "output_type": "stream",
          "name": "stdout",
          "text": [
            "Iteration 0, Loss: 2.3704\n",
            "Iteration 2000, Loss: 0.5741\n",
            "Iteration 4000, Loss: 0.4424\n",
            "Iteration 6000, Loss: 0.4175\n",
            "Iteration 8000, Loss: 0.3751\n",
            "Iteration 10000, Loss: 0.3348\n",
            "Iteration 12000, Loss: 0.2976\n",
            "Iteration 14000, Loss: 0.2945\n",
            "Iteration 16000, Loss: 0.2654\n",
            "Iteration 18000, Loss: 0.2379\n",
            "Iteration 20000, Loss: 0.2753\n",
            "Iteration 22000, Loss: 0.2781\n",
            "Iteration 24000, Loss: 0.2220\n",
            "Iteration 26000, Loss: 0.2212\n",
            "Iteration 28000, Loss: 0.2344\n",
            "Epoch 1/5, Average Loss: 0.1696\n",
            "Iteration 30000, Loss: 0.2242\n",
            "Iteration 32000, Loss: 0.1998\n",
            "Iteration 34000, Loss: 0.1924\n",
            "Iteration 36000, Loss: 0.1983\n",
            "Iteration 38000, Loss: 0.2253\n",
            "Iteration 40000, Loss: 0.2101\n",
            "Iteration 42000, Loss: 0.1895\n",
            "Iteration 44000, Loss: 0.1793\n",
            "Iteration 46000, Loss: 0.1762\n",
            "Iteration 48000, Loss: 0.1822\n",
            "Iteration 50000, Loss: 0.2185\n",
            "Iteration 52000, Loss: 0.2328\n",
            "Iteration 54000, Loss: 0.2027\n",
            "Iteration 56000, Loss: 0.1810\n",
            "Iteration 58000, Loss: 0.1721\n",
            "Epoch 2/5, Average Loss: 0.0910\n",
            "Iteration 60000, Loss: 0.1733\n",
            "Iteration 62000, Loss: 0.2020\n",
            "Iteration 64000, Loss: 0.1768\n",
            "Iteration 66000, Loss: 0.2020\n",
            "Iteration 68000, Loss: 0.1775\n",
            "Iteration 70000, Loss: 0.1935\n",
            "Iteration 72000, Loss: 0.1684\n",
            "Iteration 74000, Loss: 0.1567\n",
            "Iteration 76000, Loss: 0.1742\n",
            "Iteration 78000, Loss: 0.1873\n",
            "Iteration 80000, Loss: 0.1708\n",
            "Iteration 82000, Loss: 0.2226\n",
            "Iteration 84000, Loss: 0.1535\n",
            "Iteration 86000, Loss: 0.1510\n",
            "Iteration 88000, Loss: 0.1594\n",
            "Epoch 3/5, Average Loss: 0.0716\n",
            "Iteration 90000, Loss: 0.1853\n",
            "Iteration 92000, Loss: 0.1882\n",
            "Iteration 94000, Loss: 0.1639\n",
            "Iteration 96000, Loss: 0.1747\n",
            "Iteration 98000, Loss: 0.1764\n",
            "Iteration 100000, Loss: 0.1527\n",
            "Iteration 102000, Loss: 0.1634\n",
            "Iteration 104000, Loss: 0.1764\n",
            "Iteration 106000, Loss: 0.1609\n",
            "Iteration 108000, Loss: 0.1748\n",
            "Iteration 110000, Loss: 0.1645\n",
            "Iteration 112000, Loss: 0.1818\n",
            "Iteration 114000, Loss: 0.1549\n",
            "Iteration 116000, Loss: 0.1488\n",
            "Iteration 118000, Loss: 0.1578\n",
            "Epoch 4/5, Average Loss: 0.0619\n",
            "Iteration 120000, Loss: 0.1620\n",
            "Iteration 122000, Loss: 0.1723\n",
            "Iteration 124000, Loss: 0.1505\n",
            "Iteration 126000, Loss: 0.1582\n",
            "Iteration 128000, Loss: 0.1746\n",
            "Iteration 130000, Loss: 0.2085\n",
            "Iteration 132000, Loss: 0.1843\n",
            "Iteration 134000, Loss: 0.1542\n",
            "Iteration 136000, Loss: 0.1983\n",
            "Iteration 138000, Loss: 0.2020\n",
            "Iteration 140000, Loss: 0.1767\n",
            "Iteration 142000, Loss: 0.1715\n",
            "Iteration 144000, Loss: 0.1467\n",
            "Iteration 146000, Loss: 0.1453\n",
            "Iteration 148000, Loss: 0.1569\n",
            "Epoch 5/5, Average Loss: 0.0565\n"
          ]
        }
      ],
      "source": [
        "model = build_model()\n",
        "# Entraînement sur 5 epochs\n",
        "iterations, loss_history = SGD_without_minibatch(model, x_train, y_train, learning_rate=0.01, epochs=5, log_interval=2000)"
      ]
    },
    {
      "cell_type": "code",
      "source": [
        "plt.plot(iterations, loss_history, marker='o')\n",
        "plt.xlabel(\"Iterations\")\n",
        "plt.ylabel(\"Loss (Objective Value)\")\n",
        "plt.title(\"Loss vs Iterations (One Pass Over the Data)\")\n",
        "plt.grid(True)\n",
        "plt.show()"
      ],
      "metadata": {
        "colab": {
          "base_uri": "https://localhost:8080/",
          "height": 472
        },
        "id": "-UpD78JO0303",
        "outputId": "39ccceca-d94b-410e-acac-e529766339ce"
      },
      "id": "-UpD78JO0303",
      "execution_count": 16,
      "outputs": [
        {
          "output_type": "display_data",
          "data": {
            "text/plain": [
              "<Figure size 640x480 with 1 Axes>"
            ],
            "image/png": "[encoded data removed]"
          },
          "metadata": {}
        }
      ]
    },
    {
      "cell_type": "markdown",
      "source": [
        "each epoch allows the model to adjust its weights based on previous errors, gradually improving its performance.\n",
        "\n",
        " After multiple epochs, the model has more opportunities to learn complex patterns in the data, leading to a reduction in loss.\n",
        " This decrease indicates that the model is converging effectively toward a minimum of the loss function."
      ],
      "metadata": {
        "id": "P5yT68HuxFhF"
      },
      "id": "P5yT68HuxFhF"
    },
    {
      "cell_type": "code",
      "execution_count": 17,
      "id": "246c8ebb-a57e-4548-a69c-338055cf04a4",
      "metadata": {
        "scrolled": true,
        "id": "246c8ebb-a57e-4548-a69c-338055cf04a4"
      },
      "outputs": [],
      "source": [
        "#QUESTION 6\n",
        "# Stochastic gradient algorithm with mini batching\n",
        "\n",
        "def SGD(model, x_train, y_train, learning_rate, epochs=1, batch_size=32, log_interval=2000):\n",
        "    # Liste pour stocker les pertes et les itérations associées\n",
        "    loss_history = []\n",
        "    iterations = []\n",
        "\n",
        "    # Vérification des NaN dans les données\n",
        "    if np.isnan(x_train).any() or np.isnan(y_train).any():\n",
        "        raise ValueError(\"Les données d'entrée contiennent des valeurs NaN.\")\n",
        "\n",
        "    iteration_count = 0  # Compteur global d'itérations\n",
        "\n",
        "    for epoch in range(epochs):\n",
        "        epoch_loss = 0.0  # Cumul de la perte pour l'époque\n",
        "        num_batches = int(np.ceil(len(x_train) / batch_size))\n",
        "\n",
        "        for batch_start in range(0, len(x_train), batch_size):\n",
        "            batch_end = batch_start + batch_size\n",
        "            x_batch = x_train[batch_start:batch_end]\n",
        "            y_batch = y_train[batch_start:batch_end]\n",
        "\n",
        "            with tf.GradientTape() as tape:\n",
        "                logits = model(x_batch)  # Prédictions\n",
        "                # Calcul de la perte pour le batch actuel\n",
        "                loss_value = tf.reduce_mean(\n",
        "                    tf.keras.losses.sparse_categorical_crossentropy(y_batch, logits)\n",
        "                )\n",
        "\n",
        "            # Vérification que la perte est valide\n",
        "            if tf.math.is_nan(loss_value):\n",
        "                raise ValueError(\"La perte est NaN. Vérifiez vos données ou votre modèle.\")\n",
        "\n",
        "            # Calcul des gradients\n",
        "            grads = tape.gradient(loss_value, model.trainable_weights)\n",
        "\n",
        "            # Mise à jour des poids du modèle\n",
        "            update_weights(model, grads, real_factor=-learning_rate)\n",
        "\n",
        "            # Accumulation de la perte pour l'époque\n",
        "            epoch_loss += loss_value.numpy()\n",
        "\n",
        "            # Calcul de la perte toutes les `log_interval` itérations\n",
        "            if iteration_count % log_interval == 0:\n",
        "                total_loss = tf.reduce_mean(\n",
        "                    tf.keras.losses.sparse_categorical_crossentropy(y_train, model(x_train))\n",
        "                ).numpy()\n",
        "                loss_history.append(total_loss)\n",
        "                iterations.append(iteration_count)\n",
        "                print(f\"Iteration {iteration_count}, Loss: {total_loss:.4f}\")\n",
        "\n",
        "            iteration_count += 1\n",
        "\n",
        "        # Affichage de la perte moyenne à la fin de l'époque\n",
        "        average_epoch_loss = epoch_loss / num_batches\n",
        "        print(f\"Epoch {epoch + 1}/{epochs}, Average Loss: {average_epoch_loss:.4f}\")\n",
        "\n",
        "    # Retourner l'historique des pertes et les itérations correspondantes\n",
        "    return iterations, loss_history\n",
        "\n",
        "\n",
        "\n",
        ""
      ]
    },
    {
      "cell_type": "code",
      "execution_count": 18,
      "id": "6bd32672",
      "metadata": {
        "colab": {
          "base_uri": "https://localhost:8080/"
        },
        "id": "6bd32672",
        "outputId": "3792bfea-3fd2-4359-b6f1-3bd511f3b12c"
      },
      "outputs": [
        {
          "output_type": "stream",
          "name": "stdout",
          "text": [
            "Iteration 0, Loss: 2.3313\n",
            "Epoch 1/5, Average Loss: 0.7603\n",
            "Iteration 2000, Loss: 0.3643\n",
            "Epoch 2/5, Average Loss: 0.3313\n",
            "Iteration 4000, Loss: 0.3063\n",
            "Epoch 3/5, Average Loss: 0.2803\n",
            "Iteration 6000, Loss: 0.2621\n",
            "Epoch 4/5, Average Loss: 0.2485\n",
            "Iteration 8000, Loss: 0.2272\n",
            "Epoch 5/5, Average Loss: 0.2246\n"
          ]
        }
      ],
      "source": [
        "model = build_model()\n",
        "# Entraînement sur 5 epochs\n",
        "iterations, loss_history = SGD(model, x_train, y_train, learning_rate=0.01, epochs=5, log_interval=2000)"
      ]
    },
    {
      "cell_type": "markdown",
      "id": "0cb9022c",
      "metadata": {
        "id": "0cb9022c"
      },
      "source": [
        "\n",
        "Minibatching provides a balance between speed and stability by averaging gradients over a small batch, reducing noise compared to pure SGD. It allows for faster convergence with more stable updates"
      ]
    },
    {
      "cell_type": "code",
      "source": [
        "plt.plot(iterations, loss_history, marker='o')\n",
        "plt.xlabel(\"Iterations\")\n",
        "plt.ylabel(\"Loss (Objective Value)\")\n",
        "plt.title(\"Loss vs Iterations (One Pass Over the Data)\")\n",
        "plt.grid(True)\n",
        "plt.show()"
      ],
      "metadata": {
        "colab": {
          "base_uri": "https://localhost:8080/",
          "height": 472
        },
        "id": "f3xpeEX52Zgg",
        "outputId": "2cd537f2-79e5-42c8-bff9-a24df40744f5"
      },
      "id": "f3xpeEX52Zgg",
      "execution_count": 19,
      "outputs": [
        {
          "output_type": "display_data",
          "data": {
            "text/plain": [
              "<Figure size 640x480 with 1 Axes>"
            ],
            "image/png": "[encoded data removed]"
          },
          "metadata": {}
        }
      ]
    },
    {
      "cell_type": "code",
      "execution_count": 20,
      "id": "cd8c2bcb",
      "metadata": {
        "id": "cd8c2bcb"
      },
      "outputs": [],
      "source": [
        "from sklearn.metrics import accuracy_score\n",
        "\n",
        "# Function to evaluate model accuracy\n",
        "def evaluate_accuracy(model, x_data, y_data):\n",
        "    predictions = model.predict(x_data)\n",
        "    predicted_labels = np.argmax(predictions, axis=1)\n",
        "    accuracy = accuracy_score(y_data, predicted_labels)\n",
        "    return accuracy"
      ]
    },
    {
      "cell_type": "code",
      "execution_count": 22,
      "id": "632d681f",
      "metadata": {
        "colab": {
          "base_uri": "https://localhost:8080/"
        },
        "id": "632d681f",
        "outputId": "e339b4c5-0a37-40b6-8ff3-d5263301d0cd"
      },
      "outputs": [
        {
          "output_type": "stream",
          "name": "stdout",
          "text": [
            "Iteration 0, Loss: 2.3640\n",
            "Epoch 1/5, Average Loss: 0.7363\n",
            "Iteration 2000, Loss: 0.3560\n",
            "Epoch 2/5, Average Loss: 0.3216\n",
            "Iteration 4000, Loss: 0.2969\n",
            "Epoch 3/5, Average Loss: 0.2714\n",
            "Iteration 6000, Loss: 0.2572\n",
            "Epoch 4/5, Average Loss: 0.2411\n",
            "Iteration 8000, Loss: 0.2214\n",
            "Epoch 5/5, Average Loss: 0.2189\n",
            "Iteration 0, Loss: 2.3449\n",
            "Iteration 2000, Loss: 0.6935\n",
            "Iteration 4000, Loss: 0.4084\n",
            "Iteration 6000, Loss: 0.3986\n",
            "Iteration 8000, Loss: 0.3886\n",
            "Iteration 10000, Loss: 0.3612\n",
            "Iteration 12000, Loss: 0.2947\n",
            "Iteration 14000, Loss: 0.2830\n",
            "Iteration 16000, Loss: 0.2739\n",
            "Iteration 18000, Loss: 0.2543\n",
            "Iteration 20000, Loss: 0.2443\n",
            "Iteration 22000, Loss: 0.2777\n",
            "Iteration 24000, Loss: 0.2358\n",
            "Iteration 26000, Loss: 0.2346\n",
            "Iteration 28000, Loss: 0.2080\n",
            "Epoch 1/5, Average Loss: 0.1700\n",
            "Iteration 30000, Loss: 0.2455\n",
            "Iteration 32000, Loss: 0.2185\n",
            "Iteration 34000, Loss: 0.2097\n",
            "Iteration 36000, Loss: 0.2288\n",
            "Iteration 38000, Loss: 0.2474\n",
            "Iteration 40000, Loss: 0.2062\n",
            "Iteration 42000, Loss: 0.2622\n",
            "Iteration 44000, Loss: 0.1854\n",
            "Iteration 46000, Loss: 0.2322\n",
            "Iteration 48000, Loss: 0.2034\n",
            "Iteration 50000, Loss: 0.1896\n",
            "Iteration 52000, Loss: 0.2119\n",
            "Iteration 54000, Loss: 0.1780\n",
            "Iteration 56000, Loss: 0.1813\n",
            "Iteration 58000, Loss: 0.1649\n",
            "Epoch 2/5, Average Loss: 0.0925\n",
            "Iteration 60000, Loss: 0.2015\n",
            "Iteration 62000, Loss: 0.1931\n",
            "Iteration 64000, Loss: 0.1799\n",
            "Iteration 66000, Loss: 0.1784\n",
            "Iteration 68000, Loss: 0.2258\n",
            "Iteration 70000, Loss: 0.1826\n",
            "Iteration 72000, Loss: 0.1853\n",
            "Iteration 74000, Loss: 0.1742\n",
            "Iteration 76000, Loss: 0.2569\n",
            "Iteration 78000, Loss: 0.2033\n",
            "Iteration 80000, Loss: 0.1784\n",
            "Iteration 82000, Loss: 0.1870\n",
            "Iteration 84000, Loss: 0.1576\n",
            "Iteration 86000, Loss: 0.1915\n",
            "Iteration 88000, Loss: 0.1575\n",
            "Epoch 3/5, Average Loss: 0.0722\n",
            "Iteration 90000, Loss: 0.1869\n",
            "Iteration 92000, Loss: 0.1745\n",
            "Iteration 94000, Loss: 0.1612\n",
            "Iteration 96000, Loss: 0.1770\n",
            "Iteration 98000, Loss: 0.1955\n",
            "Iteration 100000, Loss: 0.1884\n",
            "Iteration 102000, Loss: 0.1809\n",
            "Iteration 104000, Loss: 0.1486\n",
            "Iteration 106000, Loss: 0.2130\n",
            "Iteration 108000, Loss: 0.1798\n",
            "Iteration 110000, Loss: 0.1716\n",
            "Iteration 112000, Loss: 0.1877\n",
            "Iteration 114000, Loss: 0.1503\n",
            "Iteration 116000, Loss: 0.1563\n",
            "Iteration 118000, Loss: 0.1497\n",
            "Epoch 4/5, Average Loss: 0.0611\n",
            "Iteration 120000, Loss: 0.1854\n",
            "Iteration 122000, Loss: 0.1652\n",
            "Iteration 124000, Loss: 0.1368\n",
            "Iteration 126000, Loss: 0.1854\n",
            "Iteration 128000, Loss: 0.1535\n",
            "Iteration 130000, Loss: 0.1917\n",
            "Iteration 132000, Loss: 0.1889\n",
            "Iteration 134000, Loss: 0.1490\n",
            "Iteration 136000, Loss: 0.2177\n",
            "Iteration 138000, Loss: 0.1518\n",
            "Iteration 140000, Loss: 0.1674\n",
            "Iteration 142000, Loss: 0.1780\n",
            "Iteration 144000, Loss: 0.1545\n",
            "Iteration 146000, Loss: 0.1609\n",
            "Iteration 148000, Loss: 0.1460\n",
            "Epoch 5/5, Average Loss: 0.0525\n"
          ]
        },
        {
          "output_type": "execute_result",
          "data": {
            "text/plain": [
              "([0,\n",
              "  2000,\n",
              "  4000,\n",
              "  6000,\n",
              "  8000,\n",
              "  10000,\n",
              "  12000,\n",
              "  14000,\n",
              "  16000,\n",
              "  18000,\n",
              "  20000,\n",
              "  22000,\n",
              "  24000,\n",
              "  26000,\n",
              "  28000,\n",
              "  30000,\n",
              "  32000,\n",
              "  34000,\n",
              "  36000,\n",
              "  38000,\n",
              "  40000,\n",
              "  42000,\n",
              "  44000,\n",
              "  46000,\n",
              "  48000,\n",
              "  50000,\n",
              "  52000,\n",
              "  54000,\n",
              "  56000,\n",
              "  58000,\n",
              "  60000,\n",
              "  62000,\n",
              "  64000,\n",
              "  66000,\n",
              "  68000,\n",
              "  70000,\n",
              "  72000,\n",
              "  74000,\n",
              "  76000,\n",
              "  78000,\n",
              "  80000,\n",
              "  82000,\n",
              "  84000,\n",
              "  86000,\n",
              "  88000,\n",
              "  90000,\n",
              "  92000,\n",
              "  94000,\n",
              "  96000,\n",
              "  98000,\n",
              "  100000,\n",
              "  102000,\n",
              "  104000,\n",
              "  106000,\n",
              "  108000,\n",
              "  110000,\n",
              "  112000,\n",
              "  114000,\n",
              "  116000,\n",
              "  118000,\n",
              "  120000,\n",
              "  122000,\n",
              "  124000,\n",
              "  126000,\n",
              "  128000,\n",
              "  130000,\n",
              "  132000,\n",
              "  134000,\n",
              "  136000,\n",
              "  138000,\n",
              "  140000,\n",
              "  142000,\n",
              "  144000,\n",
              "  146000,\n",
              "  148000],\n",
              " [2.3448808,\n",
              "  0.6934901,\n",
              "  0.4084002,\n",
              "  0.3986256,\n",
              "  0.38857168,\n",
              "  0.3612021,\n",
              "  0.29468232,\n",
              "  0.28298622,\n",
              "  0.27391022,\n",
              "  0.25431576,\n",
              "  0.24430117,\n",
              "  0.277663,\n",
              "  0.23579462,\n",
              "  0.23459896,\n",
              "  0.20803131,\n",
              "  0.24547876,\n",
              "  0.21848686,\n",
              "  0.20968905,\n",
              "  0.2287569,\n",
              "  0.24738212,\n",
              "  0.2061881,\n",
              "  0.26223832,\n",
              "  0.18539482,\n",
              "  0.23222002,\n",
              "  0.20340192,\n",
              "  0.18962441,\n",
              "  0.21186022,\n",
              "  0.17796458,\n",
              "  0.18132897,\n",
              "  0.16486369,\n",
              "  0.20145446,\n",
              "  0.19309658,\n",
              "  0.17986426,\n",
              "  0.17843644,\n",
              "  0.22581126,\n",
              "  0.18257588,\n",
              "  0.18533471,\n",
              "  0.17420833,\n",
              "  0.25690156,\n",
              "  0.20327017,\n",
              "  0.17844844,\n",
              "  0.18699421,\n",
              "  0.15762828,\n",
              "  0.19151151,\n",
              "  0.15749735,\n",
              "  0.18688743,\n",
              "  0.17445043,\n",
              "  0.16123317,\n",
              "  0.17700385,\n",
              "  0.19553477,\n",
              "  0.18844151,\n",
              "  0.18087575,\n",
              "  0.14864571,\n",
              "  0.21302898,\n",
              "  0.17976275,\n",
              "  0.1715984,\n",
              "  0.18765181,\n",
              "  0.15026383,\n",
              "  0.15634072,\n",
              "  0.14965503,\n",
              "  0.18539318,\n",
              "  0.16523814,\n",
              "  0.13677587,\n",
              "  0.18541472,\n",
              "  0.15349597,\n",
              "  0.19171621,\n",
              "  0.18890536,\n",
              "  0.14898401,\n",
              "  0.21769574,\n",
              "  0.15177687,\n",
              "  0.16739592,\n",
              "  0.17804892,\n",
              "  0.15453066,\n",
              "  0.16088054,\n",
              "  0.14598928])"
            ]
          },
          "metadata": {},
          "execution_count": 22
        }
      ],
      "source": [
        "# Training with SGD (minibatching)\n",
        "model_minibatch = build_model()\n",
        "SGD(model_minibatch, x_train, y_train, learning_rate=0.01, epochs=5, batch_size=32, log_interval=2000)\n",
        "\n",
        "# Training with SGD (without minibatching)\n",
        "model_no_minibatch = build_model()\n",
        "SGD_without_minibatch(model_no_minibatch, x_train, y_train, learning_rate=0.01, epochs=5, log_interval=2000)"
      ]
    },
    {
      "cell_type": "code",
      "execution_count": 23,
      "id": "9dafbd23",
      "metadata": {
        "colab": {
          "base_uri": "https://localhost:8080/"
        },
        "id": "9dafbd23",
        "outputId": "ec681cf0-ecea-46d6-9639-3fcc6cd080a3"
      },
      "outputs": [
        {
          "output_type": "stream",
          "name": "stdout",
          "text": [
            "\u001b[1m1875/1875\u001b[0m \u001b[32m━━━━━━━━━━━━━━━━━━━━\u001b[0m\u001b[37m\u001b[0m \u001b[1m2s\u001b[0m 1ms/step\n",
            "\u001b[1m1875/1875\u001b[0m \u001b[32m━━━━━━━━━━━━━━━━━━━━\u001b[0m\u001b[37m\u001b[0m \u001b[1m2s\u001b[0m 1ms/step\n",
            "Minibatch SGD - Training Accuracy: 0.9383 \n",
            "SGD without Minibatch - Training Accuracy: 0.9558\n"
          ]
        }
      ],
      "source": [
        "# Evaluate accuracy\n",
        "train_acc_minibatch = evaluate_accuracy(model_minibatch, x_train, y_train)\n",
        "\n",
        "\n",
        "train_acc_no_minibatch = evaluate_accuracy(model_no_minibatch, x_train, y_train)\n",
        "\n",
        "\n",
        "# Display results\n",
        "print(f\"Minibatch SGD - Training Accuracy: {train_acc_minibatch:.4f} \")\n",
        "print(f\"SGD without Minibatch - Training Accuracy: {train_acc_no_minibatch:.4f}\")"
      ]
    },
    {
      "cell_type": "markdown",
      "source": [
        "# 📊 Model Accuracy Evaluation: Training vs Test Set\n",
        "\n",
        "## 1. **Training Accuracy**\n",
        "Models trained with **SGD using minibatching** often achieve **slightly lower training accuracy** compared to models trained without minibatching. This is because minibatching introduces a **regularizing effect**, preventing the model from overfitting to the training data.  \n",
        "In contrast, **SGD without minibatching** (batch size = 1) tends to achieve **higher training accuracy** because it aggressively updates the model based on each individual data point, which can lead to **overfitting**.\n",
        "\n",
        "## 2. **Test Accuracy (Generalization)**\n",
        "Despite potentially lower training accuracy, models trained with **minibatching** usually show **better generalization performance** on the test set. The smoother gradient updates help the model avoid sharp minima, making it more robust to new, unseen data.  \n",
        "On the other hand, **SGD without minibatching** might perform worse on the test set due to **overfitting**, as it has adapted too closely to the specific patterns (or even noise) in the training data.\n",
        "\n",
        "## 3. **Convergence and Stability**\n",
        "- **Minibatch SGD:** Provides **more stable convergence**, with smoother accuracy improvements over epochs.  \n",
        "- **Pure SGD (without minibatching):** Can lead to **fluctuations in accuracy** due to the high variance in gradient estimates, making convergence less stable.\n",
        "\n",
        "## 4. **Impact of Batch Size**\n",
        "Increasing the batch size generally improves test accuracy up to a certain point. However, if the batch size is **too large**, the model may **converge too quickly to sharp minima**, reducing generalization performance. A **moderate batch size** often provides the best trade-off between **stability** and **generalization**.\n"
      ],
      "metadata": {
        "id": "-aKOpkZr119Y"
      },
      "id": "-aKOpkZr119Y"
    }
  ],
  "metadata": {
    "kernelspec": {
      "display_name": "Python 3",
      "language": "python",
      "name": "python3"
    },
    "language_info": {
      "codemirror_mode": {
        "name": "ipython",
        "version": 3
      },
      "file_extension": ".py",
      "mimetype": "text/x-python",
      "name": "python",
      "nbconvert_exporter": "python",
      "pygments_lexer": "ipython3",
      "version": "3.11.9"
    },
    "colab": {
      "provenance": []
    }
  },
  "nbformat": 4,
  "nbformat_minor": 5
}