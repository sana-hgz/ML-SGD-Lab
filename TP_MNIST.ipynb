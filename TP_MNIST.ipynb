{
  "cells": [
    {
      "cell_type": "code",
      "execution_count": 1,
      "id": "149938de",
      "metadata": {
        "id": "149938de"
      },
      "outputs": [],
      "source": [
        "import numpy as np\n",
        "import tensorflow as tf\n",
        "from tensorflow import keras\n",
        "from tensorflow.keras import layers\n",
        "import matplotlib.pyplot as plt"
      ]
    },
    {
      "cell_type": "markdown",
      "id": "657ee878-16b7-46ab-811d-48aebc085cf1",
      "metadata": {
        "id": "657ee878-16b7-46ab-811d-48aebc085cf1"
      },
      "source": [
        "# 1. Loading the data"
      ]
    },
    {
      "cell_type": "code",
      "execution_count": 23,
      "id": "9afc7a6a-14b1-4bf8-8cbf-f15d61a2c1ac",
      "metadata": {
        "id": "9afc7a6a-14b1-4bf8-8cbf-f15d61a2c1ac"
      },
      "outputs": [],
      "source": [
        "train_data, test_data = tf.keras.datasets.mnist.load_data(path=\"mnist.npz\")\n",
        "x_train = train_data[0].reshape(-1,784).astype(float) / 255\n",
        "y_train = train_data[1]\n",
        "x_test = test_data[0].reshape(-1,784).astype(float) / 255\n",
        "y_test = test_data[1]"
      ]
    },
    {
      "cell_type": "code",
      "execution_count": 3,
      "id": "76f055f2-a9f7-4905-bab0-d2d53287b65e",
      "metadata": {
        "colab": {
          "base_uri": "https://localhost:8080/",
          "height": 466
        },
        "id": "76f055f2-a9f7-4905-bab0-d2d53287b65e",
        "outputId": "d1343f3a-b9d8-4d8c-db22-ac4771f21bf8"
      },
      "outputs": [
        {
          "output_type": "stream",
          "name": "stdout",
          "text": [
            "label is 9\n"
          ]
        },
        {
          "output_type": "execute_result",
          "data": {
            "text/plain": [
              "<matplotlib.image.AxesImage at 0x7b8c33e21ed0>"
            ]
          },
          "metadata": {},
          "execution_count": 3
        },
        {
          "output_type": "display_data",
          "data": {
            "text/plain": [
              "<Figure size 640x480 with 1 Axes>"
            ],
            "image/png": "[encoded data removed]"
          },
          "metadata": {}
        }
      ],
      "source": [
        "# exploring the data\n",
        "i = np.random.randint(y_train.size)\n",
        "\n",
        "print(\"label is\", y_train[i])\n",
        "plt.imshow(train_data[0][i], cmap='gray')"
      ]
    },
    {
      "cell_type": "markdown",
      "id": "8feee3fb-8b54-4cd2-8ee1-a003d1292f8a",
      "metadata": {
        "id": "8feee3fb-8b54-4cd2-8ee1-a003d1292f8a"
      },
      "source": [
        "# 2. Building the model\n",
        "\n",
        "We use Keras to build a fully-connected neural network.\n",
        "\n",
        "For more details, see https://keras.io/guides/training_with_built_in_methods/"
      ]
    },
    {
      "cell_type": "code",
      "execution_count": 4,
      "id": "4b521b78",
      "metadata": {
        "colab": {
          "base_uri": "https://localhost:8080/",
          "height": 257
        },
        "id": "4b521b78",
        "outputId": "5af44a6c-0579-43c5-f148-04a0921c24f0"
      },
      "outputs": [
        {
          "output_type": "display_data",
          "data": {
            "text/plain": [
              "\u001b[1mModel: \"mnist_model\"\u001b[0m\n"
            ],
            "text/html": [
              "<pre style=\"white-space:pre;overflow-x:auto;line-height:normal;font-family:Menlo,'DejaVu Sans Mono',consolas,'Courier New',monospace\"><span style=\"font-weight: bold\">Model: \"mnist_model\"</span>\n",
              "</pre>\n"
            ]
          },
          "metadata": {}
        },
        {
          "output_type": "display_data",
          "data": {
            "text/plain": [
              "┏━━━━━━━━━━━━━━━━━━━━━━━━━━━━━━━━━━━━━━┳━━━━━━━━━━━━━━━━━━━━━━━━━━━━━┳━━━━━━━━━━━━━━━━━┓\n",
              "┃\u001b[1m \u001b[0m\u001b[1mLayer (type)                        \u001b[0m\u001b[1m \u001b[0m┃\u001b[1m \u001b[0m\u001b[1mOutput Shape               \u001b[0m\u001b[1m \u001b[0m┃\u001b[1m \u001b[0m\u001b[1m        Param #\u001b[0m\u001b[1m \u001b[0m┃\n",
              "┡━━━━━━━━━━━━━━━━━━━━━━━━━━━━━━━━━━━━━━╇━━━━━━━━━━━━━━━━━━━━━━━━━━━━━╇━━━━━━━━━━━━━━━━━┩\n",
              "│ digits (\u001b[38;5;33mInputLayer\u001b[0m)                  │ (\u001b[38;5;45mNone\u001b[0m, \u001b[38;5;34m784\u001b[0m)                 │               \u001b[38;5;34m0\u001b[0m │\n",
              "├──────────────────────────────────────┼─────────────────────────────┼─────────────────┤\n",
              "│ dense_1 (\u001b[38;5;33mDense\u001b[0m)                      │ (\u001b[38;5;45mNone\u001b[0m, \u001b[38;5;34m32\u001b[0m)                  │          \u001b[38;5;34m25,120\u001b[0m │\n",
              "├──────────────────────────────────────┼─────────────────────────────┼─────────────────┤\n",
              "│ dense_2 (\u001b[38;5;33mDense\u001b[0m)                      │ (\u001b[38;5;45mNone\u001b[0m, \u001b[38;5;34m32\u001b[0m)                  │           \u001b[38;5;34m1,056\u001b[0m │\n",
              "├──────────────────────────────────────┼─────────────────────────────┼─────────────────┤\n",
              "│ predictions (\u001b[38;5;33mDense\u001b[0m)                  │ (\u001b[38;5;45mNone\u001b[0m, \u001b[38;5;34m10\u001b[0m)                  │             \u001b[38;5;34m330\u001b[0m │\n",
              "└──────────────────────────────────────┴─────────────────────────────┴─────────────────┘\n"
            ],
            "text/html": [
              "<pre style=\"white-space:pre;overflow-x:auto;line-height:normal;font-family:Menlo,'DejaVu Sans Mono',consolas,'Courier New',monospace\">┏━━━━━━━━━━━━━━━━━━━━━━━━━━━━━━━━━━━━━━┳━━━━━━━━━━━━━━━━━━━━━━━━━━━━━┳━━━━━━━━━━━━━━━━━┓\n",
              "┃<span style=\"font-weight: bold\"> Layer (type)                         </span>┃<span style=\"font-weight: bold\"> Output Shape                </span>┃<span style=\"font-weight: bold\">         Param # </span>┃\n",
              "┡━━━━━━━━━━━━━━━━━━━━━━━━━━━━━━━━━━━━━━╇━━━━━━━━━━━━━━━━━━━━━━━━━━━━━╇━━━━━━━━━━━━━━━━━┩\n",
              "│ digits (<span style=\"color: #0087ff; text-decoration-color: #0087ff\">InputLayer</span>)                  │ (<span style=\"color: #00d7ff; text-decoration-color: #00d7ff\">None</span>, <span style=\"color: #00af00; text-decoration-color: #00af00\">784</span>)                 │               <span style=\"color: #00af00; text-decoration-color: #00af00\">0</span> │\n",
              "├──────────────────────────────────────┼─────────────────────────────┼─────────────────┤\n",
              "│ dense_1 (<span style=\"color: #0087ff; text-decoration-color: #0087ff\">Dense</span>)                      │ (<span style=\"color: #00d7ff; text-decoration-color: #00d7ff\">None</span>, <span style=\"color: #00af00; text-decoration-color: #00af00\">32</span>)                  │          <span style=\"color: #00af00; text-decoration-color: #00af00\">25,120</span> │\n",
              "├──────────────────────────────────────┼─────────────────────────────┼─────────────────┤\n",
              "│ dense_2 (<span style=\"color: #0087ff; text-decoration-color: #0087ff\">Dense</span>)                      │ (<span style=\"color: #00d7ff; text-decoration-color: #00d7ff\">None</span>, <span style=\"color: #00af00; text-decoration-color: #00af00\">32</span>)                  │           <span style=\"color: #00af00; text-decoration-color: #00af00\">1,056</span> │\n",
              "├──────────────────────────────────────┼─────────────────────────────┼─────────────────┤\n",
              "│ predictions (<span style=\"color: #0087ff; text-decoration-color: #0087ff\">Dense</span>)                  │ (<span style=\"color: #00d7ff; text-decoration-color: #00d7ff\">None</span>, <span style=\"color: #00af00; text-decoration-color: #00af00\">10</span>)                  │             <span style=\"color: #00af00; text-decoration-color: #00af00\">330</span> │\n",
              "└──────────────────────────────────────┴─────────────────────────────┴─────────────────┘\n",
              "</pre>\n"
            ]
          },
          "metadata": {}
        },
        {
          "output_type": "display_data",
          "data": {
            "text/plain": [
              "\u001b[1m Total params: \u001b[0m\u001b[38;5;34m26,506\u001b[0m (103.54 KB)\n"
            ],
            "text/html": [
              "<pre style=\"white-space:pre;overflow-x:auto;line-height:normal;font-family:Menlo,'DejaVu Sans Mono',consolas,'Courier New',monospace\"><span style=\"font-weight: bold\"> Total params: </span><span style=\"color: #00af00; text-decoration-color: #00af00\">26,506</span> (103.54 KB)\n",
              "</pre>\n"
            ]
          },
          "metadata": {}
        },
        {
          "output_type": "display_data",
          "data": {
            "text/plain": [
              "\u001b[1m Trainable params: \u001b[0m\u001b[38;5;34m26,506\u001b[0m (103.54 KB)\n"
            ],
            "text/html": [
              "<pre style=\"white-space:pre;overflow-x:auto;line-height:normal;font-family:Menlo,'DejaVu Sans Mono',consolas,'Courier New',monospace\"><span style=\"font-weight: bold\"> Trainable params: </span><span style=\"color: #00af00; text-decoration-color: #00af00\">26,506</span> (103.54 KB)\n",
              "</pre>\n"
            ]
          },
          "metadata": {}
        },
        {
          "output_type": "display_data",
          "data": {
            "text/plain": [
              "\u001b[1m Non-trainable params: \u001b[0m\u001b[38;5;34m0\u001b[0m (0.00 B)\n"
            ],
            "text/html": [
              "<pre style=\"white-space:pre;overflow-x:auto;line-height:normal;font-family:Menlo,'DejaVu Sans Mono',consolas,'Courier New',monospace\"><span style=\"font-weight: bold\"> Non-trainable params: </span><span style=\"color: #00af00; text-decoration-color: #00af00\">0</span> (0.00 B)\n",
              "</pre>\n"
            ]
          },
          "metadata": {}
        }
      ],
      "source": [
        "# source : https://keras.io/guides/training_with_built_in_methods/\n",
        "\n",
        "def build_model():\n",
        "    inputs = keras.Input(shape=(784,), name=\"digits\")\n",
        "    x = layers.Dense(32, activation=\"relu\", name=\"dense_1\")(inputs)\n",
        "    x = layers.Dense(32, activation=\"relu\", name=\"dense_2\")(x)\n",
        "    outputs = layers.Dense(10, activation=\"softmax\", name=\"predictions\")(x)\n",
        "\n",
        "    model = keras.Model(inputs=inputs, outputs=outputs, name=\"mnist_model\")\n",
        "    return model\n",
        "\n",
        "model = build_model()\n",
        "\n",
        "loss = keras.losses.sparse_categorical_crossentropy\n",
        "\n",
        "model.summary()"
      ]
    },
    {
      "cell_type": "code",
      "execution_count": 5,
      "id": "f4b09699",
      "metadata": {
        "colab": {
          "base_uri": "https://localhost:8080/"
        },
        "id": "f4b09699",
        "outputId": "0c578a33-b36c-41ad-d39b-a92548ece950"
      },
      "outputs": [
        {
          "output_type": "stream",
          "name": "stdout",
          "text": [
            "Numeber of optimization variables: 26506\n"
          ]
        }
      ],
      "source": [
        "#question 4\n",
        "\n",
        "print(f\"Numeber of optimization variables: {model.count_params()}\")"
      ]
    },
    {
      "cell_type": "code",
      "execution_count": 6,
      "id": "b18b6bdb",
      "metadata": {
        "colab": {
          "base_uri": "https://localhost:8080/"
        },
        "id": "b18b6bdb",
        "outputId": "be0d9c57-b9a8-4e70-f08a-e2fa5c7a070b"
      },
      "outputs": [
        {
          "output_type": "execute_result",
          "data": {
            "text/plain": [
              "array([5, 9, 5, 9, 5, 9, 5, 5, 9, 5, 5, 5, 9, 9, 9, 5, 5, 9, 5, 5, 5, 5,\n",
              "       5, 9, 5, 5, 5, 5, 5, 9])"
            ]
          },
          "metadata": {},
          "execution_count": 6
        }
      ],
      "source": [
        "# untrained model\n",
        "predicted_probas = model(x_train)\n",
        "y_pred = np.argmax(predicted_probas, 1) # the prediction is the class with highest probability\n",
        "y_pred[0:30]"
      ]
    },
    {
      "cell_type": "code",
      "execution_count": 7,
      "id": "35d74f67",
      "metadata": {
        "colab": {
          "base_uri": "https://localhost:8080/"
        },
        "id": "35d74f67",
        "outputId": "67eb73c1-fd24-47c1-f2f3-a172094b1ea6"
      },
      "outputs": [
        {
          "output_type": "execute_result",
          "data": {
            "text/plain": [
              "array([5, 0, 4, 1, 9, 2, 1, 3, 1, 4, 3, 5, 3, 6, 1, 7, 2, 8, 6, 9, 4, 0,\n",
              "       9, 1, 1, 2, 4, 3, 2, 7], dtype=uint8)"
            ]
          },
          "metadata": {},
          "execution_count": 7
        }
      ],
      "source": [
        "# what we would like to get\n",
        "y_train[0:30]"
      ]
    },
    {
      "cell_type": "markdown",
      "id": "a2c1255b-36d0-4d05-a5a0-fa9408742b56",
      "metadata": {
        "id": "a2c1255b-36d0-4d05-a5a0-fa9408742b56"
      },
      "source": [
        "# 3. Computing gradients\n",
        "\n",
        "We are now going to implement the stochastic gradient method using the Keras functionalities.\n",
        "\n",
        "First, we need to understand how to compute gradients using auto-differentation (also called **backpropagation**)."
      ]
    },
    {
      "cell_type": "code",
      "execution_count": 8,
      "id": "e7cbc050-6044-4149-9354-0d3870837d82",
      "metadata": {
        "id": "e7cbc050-6044-4149-9354-0d3870837d82"
      },
      "outputs": [],
      "source": [
        "# Source: https://keras.io/guides/writing_a_custom_training_loop_in_tensorflow/\n",
        "\n",
        "# Example of gradient computation using automatic differentiation\n",
        "\n",
        "# selecting a batch\n",
        "x_train_batch = x_train[:8]\n",
        "y_train_batch = y_train[:8]\n",
        "\n",
        "# Open a GradientTape to record the operations run\n",
        "# during the forward pass, which enables auto-differentiation.\n",
        "with tf.GradientTape() as tape:\n",
        "        # Run the forward pass of the layer.\n",
        "        # The operations that the layer applies\n",
        "        # to its inputs are going to be recorded\n",
        "        # on the GradientTape.\n",
        "\n",
        "        logits = model(x_train_batch)  # Logits for this minibatch (the logits are the name we give to the Neural Network output)\n",
        "\n",
        "        # Compute the loss value for this minibatch.\n",
        "        loss_value = loss(y_train_batch, logits)\n",
        "\n",
        "# Use the gradient tape to automatically retrieve\n",
        "# the gradients of the trainable variables with respect to the loss.\n",
        "grad = tape.gradient(loss_value, model.trainable_weights)"
      ]
    },
    {
      "cell_type": "markdown",
      "id": "f2f189a1-5cec-4723-93fc-8693ec8d6a5c",
      "metadata": {
        "id": "f2f189a1-5cec-4723-93fc-8693ec8d6a5c"
      },
      "source": [
        "We also define two important helper functions."
      ]
    },
    {
      "cell_type": "code",
      "execution_count": 9,
      "id": "dab2abd2-91e5-4b9e-a863-e1e3ea3dcd64",
      "metadata": {
        "id": "dab2abd2-91e5-4b9e-a863-e1e3ea3dcd64"
      },
      "outputs": [],
      "source": [
        "## update the weights by adding real_factor * update\n",
        "def update_weights(model, update, real_factor = 1.):\n",
        "    new_weights = model.trainable_weights.copy()\n",
        "\n",
        "    # iterate over all layers\n",
        "    for i in range(len(new_weights)):\n",
        "        new_weights[i] = new_weights[i] + real_factor * update[i]\n",
        "\n",
        "    model.set_weights(new_weights)\n",
        "\n",
        "\n",
        "# Evaluate model\n",
        "def mean_loss(model, X, Y):\n",
        "    logits = model(X)\n",
        "    return np.mean(loss(Y, logits))"
      ]
    },
    {
      "cell_type": "code",
      "execution_count": 10,
      "id": "9c11dcf5-bcd8-403b-ae60-41c755b5c5ec",
      "metadata": {
        "colab": {
          "base_uri": "https://localhost:8080/"
        },
        "id": "9c11dcf5-bcd8-403b-ae60-41c755b5c5ec",
        "outputId": "8bab4663-6b70-4cea-f402-0f8bcfede9e3"
      },
      "outputs": [
        {
          "output_type": "execute_result",
          "data": {
            "text/plain": [
              "2.3850904"
            ]
          },
          "metadata": {},
          "execution_count": 10
        }
      ],
      "source": [
        "# evaluating the train loss on the whole dataset\n",
        "# this is a costly operation, use sparsely\n",
        "mean_loss(model, x_train, y_train)"
      ]
    },
    {
      "cell_type": "markdown",
      "id": "ae0785ce-c5e2-4103-b4a8-1b10df2abf4d",
      "metadata": {
        "id": "ae0785ce-c5e2-4103-b4a8-1b10df2abf4d"
      },
      "source": [
        "# 4. Training the model"
      ]
    },
    {
      "cell_type": "code",
      "execution_count": 11,
      "id": "352dfd39",
      "metadata": {
        "id": "352dfd39"
      },
      "outputs": [],
      "source": [
        "# Algorithme SGD sans mini-batching\n",
        "def SGD_without_minibatch(model, x_train, y_train, learning_rate, epochs=1, log_interval=2000):\n",
        "    # Liste pour stocker les pertes et les itérations associées\n",
        "    loss_history = []\n",
        "    iterations = []\n",
        "\n",
        "    # Vérification des NaN dans les données\n",
        "    if np.isnan(x_train).any() or np.isnan(y_train).any():\n",
        "        raise ValueError(\"Les données d'entrée contiennent des valeurs NaN.\")\n",
        "\n",
        "    iteration_count = 0  # Compteur global d'itérations\n",
        "\n",
        "    for epoch in range(epochs):\n",
        "        epoch_loss = 0.0  # Cumul de la perte pour l'époque\n",
        "        num_samples = len(x_train)\n",
        "\n",
        "        for i in range(num_samples//2):\n",
        "            x_sample = x_train[i:i+1]  # Un seul échantillon\n",
        "            y_sample = y_train[i:i+1]  # Étiquette correspondante\n",
        "\n",
        "            with tf.GradientTape() as tape:\n",
        "                logits = model(x_sample)  # Prédictions pour un échantillon\n",
        "                # Calcul de la perte pour l'échantillon actuel\n",
        "                loss_value = tf.reduce_mean(\n",
        "                    tf.keras.losses.sparse_categorical_crossentropy(y_sample, logits)\n",
        "                )\n",
        "\n",
        "            # Vérification que la perte est valide\n",
        "            if tf.math.is_nan(loss_value):\n",
        "                raise ValueError(\"La perte est NaN. Vérifiez vos données ou votre modèle.\")\n",
        "\n",
        "            # Calcul des gradients\n",
        "            grads = tape.gradient(loss_value, model.trainable_weights)\n",
        "\n",
        "            # Mise à jour des poids du modèle\n",
        "            update_weights(model, grads, real_factor=-learning_rate)\n",
        "\n",
        "            # Accumulation de la perte pour l'époque\n",
        "            epoch_loss += loss_value.numpy()\n",
        "\n",
        "            # Calcul de la perte toutes les `log_interval` itérations\n",
        "            if iteration_count % log_interval == 0:\n",
        "                total_loss = tf.reduce_mean(\n",
        "                    tf.keras.losses.sparse_categorical_crossentropy(y_train, model(x_train))\n",
        "                ).numpy()\n",
        "                loss_history.append(total_loss)\n",
        "                iterations.append(iteration_count)\n",
        "                print(f\"Iteration {iteration_count}, Loss: {total_loss:.4f}\")\n",
        "\n",
        "            iteration_count += 1\n",
        "\n",
        "        # Affichage de la perte moyenne à la fin de l'époque\n",
        "        average_epoch_loss = epoch_loss / num_samples\n",
        "        print(f\"Epoch {epoch + 1}/{epochs}, Average Loss: {average_epoch_loss:.4f}\")\n",
        "\n",
        "    # Retourner l'historique des pertes et les itérations correspondantes\n",
        "    return iterations, loss_history"
      ]
    },
    {
      "cell_type": "code",
      "execution_count": null,
      "id": "1ff2acb6",
      "metadata": {
        "colab": {
          "base_uri": "https://localhost:8080/"
        },
        "id": "1ff2acb6",
        "outputId": "01946eef-c957-43c1-a3fb-f5e22ab57b53"
      },
      "outputs": [
        {
          "name": "stdout",
          "output_type": "stream",
          "text": [
            "60000\n"
          ]
        }
      ],
      "source": [
        "print(len(x_train))"
      ]
    },
    {
      "cell_type": "code",
      "execution_count": 12,
      "id": "52744328",
      "metadata": {
        "colab": {
          "base_uri": "https://localhost:8080/"
        },
        "id": "52744328",
        "outputId": "8e48d17d-5cfa-4346-ee2a-ea2d3a5ceb86"
      },
      "outputs": [
        {
          "output_type": "stream",
          "name": "stdout",
          "text": [
            "Iteration 0, Loss: 2.3169\n",
            "Iteration 2000, Loss: 0.6462\n",
            "Iteration 4000, Loss: 0.4256\n",
            "Iteration 6000, Loss: 0.3916\n",
            "Iteration 8000, Loss: 0.4668\n",
            "Iteration 10000, Loss: 0.3279\n",
            "Iteration 12000, Loss: 0.3176\n",
            "Iteration 14000, Loss: 0.3145\n",
            "Iteration 16000, Loss: 0.2759\n",
            "Iteration 18000, Loss: 0.2885\n",
            "Iteration 20000, Loss: 0.2530\n",
            "Iteration 22000, Loss: 0.2829\n",
            "Iteration 24000, Loss: 0.2337\n",
            "Iteration 26000, Loss: 0.2470\n",
            "Iteration 28000, Loss: 0.2185\n",
            "Epoch 1/1, Average Loss: 0.1742\n"
          ]
        }
      ],
      "source": [
        "# initialize model\n",
        "model = build_model()\n",
        "# Entraînement du model\n",
        "iterations,loss_history =SGD_without_minibatch(model, x_train, y_train, learning_rate=0.01, epochs=1)"
      ]
    },
    {
      "cell_type": "code",
      "execution_count": 13,
      "id": "959375a8",
      "metadata": {
        "colab": {
          "base_uri": "https://localhost:8080/",
          "height": 472
        },
        "id": "959375a8",
        "outputId": "21c1ba85-8d1b-488d-c155-5ddc1bd8a546"
      },
      "outputs": [
        {
          "output_type": "display_data",
          "data": {
            "text/plain": [
              "<Figure size 640x480 with 1 Axes>"
            ],
            "image/png": "[encoded data removed]"
          },
          "metadata": {}
        }
      ],
      "source": [
        "#Q5.2\n",
        "plt.plot(iterations, loss_history, marker='o')\n",
        "plt.xlabel(\"Iterations\")\n",
        "plt.ylabel(\"Loss (Objective Value)\")\n",
        "plt.title(\"Loss vs Iterations (One Pass Over the Data)\")\n",
        "plt.grid(True)\n",
        "plt.show()"
      ]
    },
    {
      "cell_type": "markdown",
      "id": "a4tqKoOBwTmO",
      "metadata": {
        "id": "a4tqKoOBwTmO"
      },
      "source": [
        "Des learning rates plus élevés (0.1 et 0.01) permettent une convergence plus rapide de la perte par rapport à un learning rate plus faible (0.001).\n",
        "\n",
        "  -Avec un learning rate de 0.1, la perte diminue très rapidement, atteignant une valeur inférieure à 0.2 dès les premières itérations, ce qui indique une convergence efficace.            \n",
        "  -Le learning rate de 0.01 affiche également une bonne descente de la perte, bien qu'un peu plus lente que 0.10.1, atteignant environ 0.4 après 1500 itérations.        \n",
        "  -En revanche, le learning rate de 0.001 montre une convergence très lente, avec une perte qui reste élevée (~1.8), illustrant un sous-apprentissage après le même nombre d'itérations.\n",
        "\n",
        "Cela démontre que le choix du learning rate est crucial : un taux trop petit ralentit l'apprentissage, tandis qu'un taux modéré (comme 0.1 ici) permet d'apprendre rapidement sans instabilité apparente. 🚀"
      ]
    },
    {
      "cell_type": "code",
      "execution_count": 15,
      "id": "9cd18be6",
      "metadata": {
        "colab": {
          "base_uri": "https://localhost:8080/"
        },
        "id": "9cd18be6",
        "outputId": "ead6527d-1efd-4684-fa5a-3a78609608e5"
      },
      "outputs": [
        {
          "output_type": "stream",
          "name": "stdout",
          "text": [
            "Iteration 0, Loss: 2.3335\n",
            "Iteration 2000, Loss: 0.6430\n",
            "Iteration 4000, Loss: 0.3888\n",
            "Iteration 6000, Loss: 0.3639\n",
            "Iteration 8000, Loss: 0.3940\n",
            "Iteration 10000, Loss: 0.3020\n",
            "Iteration 12000, Loss: 0.2899\n",
            "Iteration 14000, Loss: 0.3014\n",
            "Iteration 16000, Loss: 0.2651\n",
            "Iteration 18000, Loss: 0.2624\n",
            "Iteration 20000, Loss: 0.2519\n",
            "Iteration 22000, Loss: 0.2941\n",
            "Iteration 24000, Loss: 0.2089\n",
            "Iteration 26000, Loss: 0.2313\n",
            "Iteration 28000, Loss: 0.2600\n",
            "Epoch 1/5, Average Loss: 0.1618\n",
            "Iteration 30000, Loss: 0.2363\n",
            "Iteration 32000, Loss: 0.2090\n",
            "Iteration 34000, Loss: 0.1940\n",
            "Iteration 36000, Loss: 0.2084\n",
            "Iteration 38000, Loss: 0.2930\n",
            "Iteration 40000, Loss: 0.1830\n",
            "Iteration 42000, Loss: 0.2031\n",
            "Iteration 44000, Loss: 0.1835\n",
            "Iteration 46000, Loss: 0.1629\n",
            "Iteration 48000, Loss: 0.1921\n",
            "Iteration 50000, Loss: 0.1980\n",
            "Iteration 52000, Loss: 0.1740\n",
            "Iteration 54000, Loss: 0.1773\n",
            "Iteration 56000, Loss: 0.1765\n",
            "Iteration 58000, Loss: 0.1660\n",
            "Epoch 2/5, Average Loss: 0.0872\n",
            "Iteration 60000, Loss: 0.1907\n",
            "Iteration 62000, Loss: 0.1637\n",
            "Iteration 64000, Loss: 0.1536\n",
            "Iteration 66000, Loss: 0.1879\n",
            "Iteration 68000, Loss: 0.2024\n",
            "Iteration 70000, Loss: 0.1713\n",
            "Iteration 72000, Loss: 0.1563\n",
            "Iteration 74000, Loss: 0.1564\n",
            "Iteration 76000, Loss: 0.1654\n",
            "Iteration 78000, Loss: 0.1669\n",
            "Iteration 80000, Loss: 0.1883\n",
            "Iteration 82000, Loss: 0.1649\n",
            "Iteration 84000, Loss: 0.1409\n",
            "Iteration 86000, Loss: 0.1800\n",
            "Iteration 88000, Loss: 0.1548\n",
            "Epoch 3/5, Average Loss: 0.0686\n",
            "Iteration 90000, Loss: 0.1536\n",
            "Iteration 92000, Loss: 0.1488\n",
            "Iteration 94000, Loss: 0.1510\n",
            "Iteration 96000, Loss: 0.1766\n",
            "Iteration 98000, Loss: 0.1990\n",
            "Iteration 100000, Loss: 0.1628\n",
            "Iteration 102000, Loss: 0.1606\n",
            "Iteration 104000, Loss: 0.1384\n",
            "Iteration 106000, Loss: 0.1566\n",
            "Iteration 108000, Loss: 0.1550\n",
            "Iteration 110000, Loss: 0.1915\n",
            "Iteration 112000, Loss: 0.1859\n",
            "Iteration 114000, Loss: 0.1438\n",
            "Iteration 116000, Loss: 0.1720\n",
            "Iteration 118000, Loss: 0.1532\n",
            "Epoch 4/5, Average Loss: 0.0589\n",
            "Iteration 120000, Loss: 0.1559\n",
            "Iteration 122000, Loss: 0.1638\n",
            "Iteration 124000, Loss: 0.1375\n",
            "Iteration 126000, Loss: 0.1453\n",
            "Iteration 128000, Loss: 0.1763\n",
            "Iteration 130000, Loss: 0.1345\n",
            "Iteration 132000, Loss: 0.1797\n",
            "Iteration 134000, Loss: 0.1345\n",
            "Iteration 136000, Loss: 0.1494\n",
            "Iteration 138000, Loss: 0.1396\n",
            "Iteration 140000, Loss: 0.1652\n",
            "Iteration 142000, Loss: 0.1439\n",
            "Iteration 144000, Loss: 0.1678\n",
            "Iteration 146000, Loss: 0.1489\n",
            "Iteration 148000, Loss: 0.1547\n",
            "Epoch 5/5, Average Loss: 0.0496\n"
          ]
        }
      ],
      "source": [
        "model = build_model()\n",
        "# Entraînement sur 5 epochs\n",
        "iterations, loss_history = SGD_without_minibatch(model, x_train, y_train, learning_rate=0.01, epochs=5, log_interval=2000)"
      ]
    },
    {
      "cell_type": "code",
      "execution_count": 16,
      "id": "-UpD78JO0303",
      "metadata": {
        "colab": {
          "base_uri": "https://localhost:8080/",
          "height": 472
        },
        "id": "-UpD78JO0303",
        "outputId": "71426608-e976-477c-c35d-9b5c13f89e00"
      },
      "outputs": [
        {
          "output_type": "display_data",
          "data": {
            "text/plain": [
              "<Figure size 640x480 with 1 Axes>"
            ],
            "image/png": "[encoded data removed]"
          },
          "metadata": {}
        }
      ],
      "source": [
        "plt.plot(iterations, loss_history, marker='o')\n",
        "plt.xlabel(\"Iterations\")\n",
        "plt.ylabel(\"Loss (Objective Value)\")\n",
        "plt.title(\"Loss vs Iterations (One Pass Over the Data)\")\n",
        "plt.grid(True)\n",
        "plt.show()"
      ]
    },
    {
      "cell_type": "markdown",
      "id": "P5yT68HuxFhF",
      "metadata": {
        "id": "P5yT68HuxFhF"
      },
      "source": [
        "each epoch allows the model to adjust its weights based on previous errors, gradually improving its performance.\n",
        "\n",
        " After multiple epochs, the model has more opportunities to learn complex patterns in the data, leading to a reduction in loss.\n",
        " This decrease indicates that the model is converging effectively toward a minimum of the loss function."
      ]
    },
    {
      "cell_type": "code",
      "execution_count": 17,
      "id": "246c8ebb-a57e-4548-a69c-338055cf04a4",
      "metadata": {
        "id": "246c8ebb-a57e-4548-a69c-338055cf04a4",
        "scrolled": true
      },
      "outputs": [],
      "source": [
        "#QUESTION 6\n",
        "# Stochastic gradient algorithm with mini batching\n",
        "\n",
        "def SGD(model, x_train, y_train, learning_rate, epochs=1, batch_size=32, log_interval=2000):\n",
        "    # Liste pour stocker les pertes et les itérations associées\n",
        "    loss_history = []\n",
        "    iterations = []\n",
        "\n",
        "    # Vérification des NaN dans les données\n",
        "    if np.isnan(x_train).any() or np.isnan(y_train).any():\n",
        "        raise ValueError(\"Les données d'entrée contiennent des valeurs NaN.\")\n",
        "\n",
        "    iteration_count = 0  # Compteur global d'itérations\n",
        "\n",
        "    for epoch in range(epochs):\n",
        "        epoch_loss = 0.0  # Cumul de la perte pour l'époque\n",
        "        num_batches = int(np.ceil(len(x_train) / batch_size))\n",
        "\n",
        "        for batch_start in range(0, len(x_train), batch_size):\n",
        "            batch_end = batch_start + batch_size\n",
        "            x_batch = x_train[batch_start:batch_end]\n",
        "            y_batch = y_train[batch_start:batch_end]\n",
        "\n",
        "            with tf.GradientTape() as tape:\n",
        "                logits = model(x_batch)  # Prédictions\n",
        "                # Calcul de la perte pour le batch actuel\n",
        "                loss_value = tf.reduce_mean(\n",
        "                    tf.keras.losses.sparse_categorical_crossentropy(y_batch, logits)\n",
        "                )\n",
        "\n",
        "            # Vérification que la perte est valide\n",
        "            if tf.math.is_nan(loss_value):\n",
        "                raise ValueError(\"La perte est NaN. Vérifiez vos données ou votre modèle.\")\n",
        "\n",
        "            # Calcul des gradients\n",
        "            grads = tape.gradient(loss_value, model.trainable_weights)\n",
        "\n",
        "            # Mise à jour des poids du modèle\n",
        "            update_weights(model, grads, real_factor=-learning_rate)\n",
        "\n",
        "            # Accumulation de la perte pour l'époque\n",
        "            epoch_loss += loss_value.numpy()\n",
        "\n",
        "            # Calcul de la perte toutes les `log_interval` itérations\n",
        "            if iteration_count % log_interval == 0:\n",
        "                total_loss = tf.reduce_mean(\n",
        "                    tf.keras.losses.sparse_categorical_crossentropy(y_train, model(x_train))\n",
        "                ).numpy()\n",
        "                loss_history.append(total_loss)\n",
        "                iterations.append(iteration_count)\n",
        "                print(f\"Iteration {iteration_count}, Loss: {total_loss:.4f}\")\n",
        "\n",
        "            iteration_count += 1\n",
        "\n",
        "        # Affichage de la perte moyenne à la fin de l'époque\n",
        "        average_epoch_loss = epoch_loss / num_batches\n",
        "        print(f\"Epoch {epoch + 1}/{epochs}, Average Loss: {average_epoch_loss:.4f}\")\n",
        "\n",
        "    # Retourner l'historique des pertes et les itérations correspondantes\n",
        "    return iterations, loss_history\n",
        "\n",
        "\n",
        "\n"
      ]
    },
    {
      "cell_type": "code",
      "execution_count": 18,
      "id": "6bd32672",
      "metadata": {
        "colab": {
          "base_uri": "https://localhost:8080/"
        },
        "id": "6bd32672",
        "outputId": "16718191-996b-48b4-d9cd-e705bd9eb37e"
      },
      "outputs": [
        {
          "output_type": "stream",
          "name": "stdout",
          "text": [
            "Iteration 0, Loss: 2.3894\n",
            "Epoch 1/5, Average Loss: 0.7190\n",
            "Iteration 2000, Loss: 0.3550\n",
            "Epoch 2/5, Average Loss: 0.3222\n",
            "Iteration 4000, Loss: 0.2918\n",
            "Epoch 3/5, Average Loss: 0.2704\n",
            "Iteration 6000, Loss: 0.2565\n",
            "Epoch 4/5, Average Loss: 0.2377\n",
            "Iteration 8000, Loss: 0.2182\n",
            "Epoch 5/5, Average Loss: 0.2142\n"
          ]
        }
      ],
      "source": [
        "model = build_model()\n",
        "# Entraînement sur 5 epochs\n",
        "iterations, loss_history = SGD(model, x_train, y_train, learning_rate=0.01, epochs=5, log_interval=2000)"
      ]
    },
    {
      "cell_type": "markdown",
      "id": "0cb9022c",
      "metadata": {
        "id": "0cb9022c"
      },
      "source": [
        "\n",
        "Minibatching provides a balance between speed and stability by averaging gradients over a small batch, reducing noise compared to pure SGD. It allows for faster convergence with more stable updates"
      ]
    },
    {
      "cell_type": "code",
      "execution_count": 19,
      "id": "f3xpeEX52Zgg",
      "metadata": {
        "colab": {
          "base_uri": "https://localhost:8080/",
          "height": 472
        },
        "id": "f3xpeEX52Zgg",
        "outputId": "096f34d7-d3d5-4f3d-9798-3967b20f88ad"
      },
      "outputs": [
        {
          "output_type": "display_data",
          "data": {
            "text/plain": [
              "<Figure size 640x480 with 1 Axes>"
            ],
            "image/png": "[encoded data removed]"
          },
          "metadata": {}
        }
      ],
      "source": [
        "plt.plot(iterations, loss_history, marker='o')\n",
        "plt.xlabel(\"Iterations\")\n",
        "plt.ylabel(\"Loss (Objective Value)\")\n",
        "plt.title(\"Loss vs Iterations (One Pass Over the Data)\")\n",
        "plt.grid(True)\n",
        "plt.show()"
      ]
    },
    {
      "cell_type": "code",
      "execution_count": 20,
      "id": "cd8c2bcb",
      "metadata": {
        "id": "cd8c2bcb"
      },
      "outputs": [],
      "source": [
        "from sklearn.metrics import accuracy_score\n",
        "\n",
        "# Function to evaluate model accuracy\n",
        "def evaluate_accuracy(model, x_data, y_data):\n",
        "    predictions = model.predict(x_data)\n",
        "    predicted_labels = np.argmax(predictions, axis=1)\n",
        "    accuracy = accuracy_score(y_data, predicted_labels)\n",
        "    return accuracy"
      ]
    },
    {
      "cell_type": "code",
      "execution_count": 21,
      "id": "632d681f",
      "metadata": {
        "colab": {
          "base_uri": "https://localhost:8080/"
        },
        "id": "632d681f",
        "outputId": "a1c893b1-6634-4827-87c1-6fbf5f35fe4a"
      },
      "outputs": [
        {
          "output_type": "stream",
          "name": "stdout",
          "text": [
            "Iteration 0, Loss: 2.3240\n",
            "Epoch 1/5, Average Loss: 0.8425\n",
            "Iteration 2000, Loss: 0.3659\n",
            "Epoch 2/5, Average Loss: 0.3310\n",
            "Iteration 4000, Loss: 0.3036\n",
            "Epoch 3/5, Average Loss: 0.2805\n",
            "Iteration 6000, Loss: 0.2669\n",
            "Epoch 4/5, Average Loss: 0.2509\n",
            "Iteration 8000, Loss: 0.2323\n",
            "Epoch 5/5, Average Loss: 0.2289\n",
            "Iteration 0, Loss: 2.3570\n",
            "Iteration 2000, Loss: 0.7210\n",
            "Iteration 4000, Loss: 0.4526\n",
            "Iteration 6000, Loss: 0.4066\n",
            "Iteration 8000, Loss: 0.4645\n",
            "Iteration 10000, Loss: 0.3807\n",
            "Iteration 12000, Loss: 0.3370\n",
            "Iteration 14000, Loss: 0.2944\n",
            "Iteration 16000, Loss: 0.2729\n",
            "Iteration 18000, Loss: 0.2755\n",
            "Iteration 20000, Loss: 0.2595\n",
            "Iteration 22000, Loss: 0.3126\n",
            "Iteration 24000, Loss: 0.2260\n",
            "Iteration 26000, Loss: 0.2822\n",
            "Iteration 28000, Loss: 0.2160\n",
            "Epoch 1/5, Average Loss: 0.1750\n",
            "Iteration 30000, Loss: 0.2597\n",
            "Iteration 32000, Loss: 0.2062\n",
            "Iteration 34000, Loss: 0.1941\n",
            "Iteration 36000, Loss: 0.1916\n",
            "Iteration 38000, Loss: 0.2511\n",
            "Iteration 40000, Loss: 0.2663\n",
            "Iteration 42000, Loss: 0.2015\n",
            "Iteration 44000, Loss: 0.2015\n",
            "Iteration 46000, Loss: 0.2031\n",
            "Iteration 48000, Loss: 0.1864\n",
            "Iteration 50000, Loss: 0.2275\n",
            "Iteration 52000, Loss: 0.1926\n",
            "Iteration 54000, Loss: 0.1729\n",
            "Iteration 56000, Loss: 0.1972\n",
            "Iteration 58000, Loss: 0.1626\n",
            "Epoch 2/5, Average Loss: 0.0927\n",
            "Iteration 60000, Loss: 0.1937\n",
            "Iteration 62000, Loss: 0.1608\n",
            "Iteration 64000, Loss: 0.1567\n",
            "Iteration 66000, Loss: 0.1571\n",
            "Iteration 68000, Loss: 0.2317\n",
            "Iteration 70000, Loss: 0.1825\n",
            "Iteration 72000, Loss: 0.1976\n",
            "Iteration 74000, Loss: 0.1758\n",
            "Iteration 76000, Loss: 0.1763\n",
            "Iteration 78000, Loss: 0.1431\n",
            "Iteration 80000, Loss: 0.1775\n",
            "Iteration 82000, Loss: 0.1529\n",
            "Iteration 84000, Loss: 0.1559\n",
            "Iteration 86000, Loss: 0.1748\n",
            "Iteration 88000, Loss: 0.1431\n",
            "Epoch 3/5, Average Loss: 0.0711\n",
            "Iteration 90000, Loss: 0.1662\n",
            "Iteration 92000, Loss: 0.1564\n",
            "Iteration 94000, Loss: 0.1493\n",
            "Iteration 96000, Loss: 0.1402\n",
            "Iteration 98000, Loss: 0.2211\n",
            "Iteration 100000, Loss: 0.1703\n",
            "Iteration 102000, Loss: 0.1709\n",
            "Iteration 104000, Loss: 0.1630\n",
            "Iteration 106000, Loss: 0.1594\n",
            "Iteration 108000, Loss: 0.1480\n",
            "Iteration 110000, Loss: 0.2062\n",
            "Iteration 112000, Loss: 0.1423\n",
            "Iteration 114000, Loss: 0.1327\n",
            "Iteration 116000, Loss: 0.1596\n",
            "Iteration 118000, Loss: 0.1341\n",
            "Epoch 4/5, Average Loss: 0.0605\n",
            "Iteration 120000, Loss: 0.1562\n",
            "Iteration 122000, Loss: 0.1417\n",
            "Iteration 124000, Loss: 0.1328\n",
            "Iteration 126000, Loss: 0.1439\n",
            "Iteration 128000, Loss: 0.2812\n",
            "Iteration 130000, Loss: 0.1543\n",
            "Iteration 132000, Loss: 0.2031\n",
            "Iteration 134000, Loss: 0.1553\n",
            "Iteration 136000, Loss: 0.1915\n",
            "Iteration 138000, Loss: 0.1800\n",
            "Iteration 140000, Loss: 0.1786\n",
            "Iteration 142000, Loss: 0.1715\n",
            "Iteration 144000, Loss: 0.1518\n",
            "Iteration 146000, Loss: 0.1589\n",
            "Iteration 148000, Loss: 0.1427\n",
            "Epoch 5/5, Average Loss: 0.0544\n"
          ]
        },
        {
          "output_type": "execute_result",
          "data": {
            "text/plain": [
              "([0,\n",
              "  2000,\n",
              "  4000,\n",
              "  6000,\n",
              "  8000,\n",
              "  10000,\n",
              "  12000,\n",
              "  14000,\n",
              "  16000,\n",
              "  18000,\n",
              "  20000,\n",
              "  22000,\n",
              "  24000,\n",
              "  26000,\n",
              "  28000,\n",
              "  30000,\n",
              "  32000,\n",
              "  34000,\n",
              "  36000,\n",
              "  38000,\n",
              "  40000,\n",
              "  42000,\n",
              "  44000,\n",
              "  46000,\n",
              "  48000,\n",
              "  50000,\n",
              "  52000,\n",
              "  54000,\n",
              "  56000,\n",
              "  58000,\n",
              "  60000,\n",
              "  62000,\n",
              "  64000,\n",
              "  66000,\n",
              "  68000,\n",
              "  70000,\n",
              "  72000,\n",
              "  74000,\n",
              "  76000,\n",
              "  78000,\n",
              "  80000,\n",
              "  82000,\n",
              "  84000,\n",
              "  86000,\n",
              "  88000,\n",
              "  90000,\n",
              "  92000,\n",
              "  94000,\n",
              "  96000,\n",
              "  98000,\n",
              "  100000,\n",
              "  102000,\n",
              "  104000,\n",
              "  106000,\n",
              "  108000,\n",
              "  110000,\n",
              "  112000,\n",
              "  114000,\n",
              "  116000,\n",
              "  118000,\n",
              "  120000,\n",
              "  122000,\n",
              "  124000,\n",
              "  126000,\n",
              "  128000,\n",
              "  130000,\n",
              "  132000,\n",
              "  134000,\n",
              "  136000,\n",
              "  138000,\n",
              "  140000,\n",
              "  142000,\n",
              "  144000,\n",
              "  146000,\n",
              "  148000],\n",
              " [2.3569667,\n",
              "  0.72096485,\n",
              "  0.45264897,\n",
              "  0.4066452,\n",
              "  0.4645442,\n",
              "  0.38072613,\n",
              "  0.33701622,\n",
              "  0.29444888,\n",
              "  0.27288112,\n",
              "  0.27545565,\n",
              "  0.2594904,\n",
              "  0.3125501,\n",
              "  0.22597052,\n",
              "  0.2821916,\n",
              "  0.21603025,\n",
              "  0.2596703,\n",
              "  0.20624359,\n",
              "  0.19410312,\n",
              "  0.19159645,\n",
              "  0.25114855,\n",
              "  0.26632896,\n",
              "  0.20152748,\n",
              "  0.20149401,\n",
              "  0.20313764,\n",
              "  0.18635856,\n",
              "  0.22750111,\n",
              "  0.19255088,\n",
              "  0.17294665,\n",
              "  0.19721287,\n",
              "  0.16263184,\n",
              "  0.19372682,\n",
              "  0.16077115,\n",
              "  0.15668134,\n",
              "  0.15713203,\n",
              "  0.2316545,\n",
              "  0.18252416,\n",
              "  0.19759004,\n",
              "  0.1758082,\n",
              "  0.17630193,\n",
              "  0.14309345,\n",
              "  0.17752387,\n",
              "  0.15293984,\n",
              "  0.15593097,\n",
              "  0.17481089,\n",
              "  0.14313513,\n",
              "  0.16616341,\n",
              "  0.15641071,\n",
              "  0.1492625,\n",
              "  0.14016293,\n",
              "  0.22110951,\n",
              "  0.17031635,\n",
              "  0.17090988,\n",
              "  0.16296926,\n",
              "  0.15943623,\n",
              "  0.14802063,\n",
              "  0.20616709,\n",
              "  0.14225836,\n",
              "  0.13271567,\n",
              "  0.15956652,\n",
              "  0.1340692,\n",
              "  0.15621209,\n",
              "  0.14172897,\n",
              "  0.13275135,\n",
              "  0.14391871,\n",
              "  0.281153,\n",
              "  0.15430963,\n",
              "  0.2030927,\n",
              "  0.15533364,\n",
              "  0.1914555,\n",
              "  0.17997429,\n",
              "  0.17861934,\n",
              "  0.1714845,\n",
              "  0.15179196,\n",
              "  0.15887904,\n",
              "  0.14268942])"
            ]
          },
          "metadata": {},
          "execution_count": 21
        }
      ],
      "source": [
        "# Training with SGD (minibatching)\n",
        "model_minibatch = build_model()\n",
        "SGD(model_minibatch, x_train, y_train, learning_rate=0.01, epochs=5, batch_size=32, log_interval=2000)\n",
        "\n",
        "# Training with SGD (without minibatching)\n",
        "model_no_minibatch = build_model()\n",
        "SGD_without_minibatch(model_no_minibatch, x_train, y_train, learning_rate=0.01, epochs=5, log_interval=2000)"
      ]
    },
    {
      "cell_type": "code",
      "execution_count": 25,
      "id": "9dafbd23",
      "metadata": {
        "colab": {
          "base_uri": "https://localhost:8080/"
        },
        "id": "9dafbd23",
        "outputId": "e41a0496-183a-4b1a-a1ad-aa0ec9821473"
      },
      "outputs": [
        {
          "output_type": "stream",
          "name": "stdout",
          "text": [
            "\u001b[1m1875/1875\u001b[0m \u001b[32m━━━━━━━━━━━━━━━━━━━━\u001b[0m\u001b[37m\u001b[0m \u001b[1m2s\u001b[0m 825us/step\n",
            "\u001b[1m313/313\u001b[0m \u001b[32m━━━━━━━━━━━━━━━━━━━━\u001b[0m\u001b[37m\u001b[0m \u001b[1m0s\u001b[0m 834us/step\n",
            "\u001b[1m1875/1875\u001b[0m \u001b[32m━━━━━━━━━━━━━━━━━━━━\u001b[0m\u001b[37m\u001b[0m \u001b[1m2s\u001b[0m 799us/step\n",
            "\u001b[1m313/313\u001b[0m \u001b[32m━━━━━━━━━━━━━━━━━━━━\u001b[0m\u001b[37m\u001b[0m \u001b[1m0s\u001b[0m 920us/step\n",
            "Minibatch SGD - Training Accuracy: 0.9350, Test Accuracy: 0.9351\n",
            "SGD without Minibatch - Training Accuracy: 0.9560, Test Accuracy: 0.9532\n"
          ]
        }
      ],
      "source": [
        "# Evaluate accuracy\n",
        "train_acc_minibatch = evaluate_accuracy(model_minibatch, x_train, y_train)\n",
        "test_acc_mb = evaluate_accuracy(model_minibatch, x_test, y_test)\n",
        "\n",
        "train_acc_no_minibatch = evaluate_accuracy(model_no_minibatch, x_train, y_train)\n",
        "test_acc_no_mb = evaluate_accuracy(model_no_minibatch, x_test, y_test)\n",
        "\n",
        "\n",
        "# Display results\n",
        "print(f\"Minibatch SGD - Training Accuracy: {train_acc_minibatch:.4f}, Test Accuracy: {test_acc_mb:.4f}\")\n",
        "print(f\"SGD without Minibatch - Training Accuracy: {train_acc_no_minibatch:.4f}, Test Accuracy: {test_acc_no_mb:.4f}\")\n"
      ]
    },
    {
      "cell_type": "markdown",
      "id": "-aKOpkZr119Y",
      "metadata": {
        "id": "-aKOpkZr119Y"
      },
      "source": [
        "# 📊 Model Accuracy Evaluation: Training vs Test Set\n",
        "\n",
        "## 1. **Training Accuracy**\n",
        "Models trained with **SGD using minibatching** often achieve **slightly lower training accuracy** compared to models trained without minibatching. This is because minibatching introduces a **regularizing effect**, preventing the model from overfitting to the training data.  \n",
        "In contrast, **SGD without minibatching** (batch size = 1) tends to achieve **higher training accuracy** because it aggressively updates the model based on each individual data point, which can lead to **overfitting**.\n",
        "\n",
        "## 2. **Test Accuracy (Generalization)**\n",
        "Despite potentially lower training accuracy, models trained with **minibatching** usually show **better generalization performance** on the test set. The smoother gradient updates help the model avoid sharp minima, making it more robust to new, unseen data.  \n",
        "On the other hand, **SGD without minibatching** might perform worse on the test set due to **overfitting**, as it has adapted too closely to the specific patterns (or even noise) in the training data.\n",
        "\n",
        "## 3. **Convergence and Stability**\n",
        "- **Minibatch SGD:** Provides **more stable convergence**, with smoother accuracy improvements over epochs.  \n",
        "- **Pure SGD (without minibatching):** Can lead to **fluctuations in accuracy** due to the high variance in gradient estimates, making convergence less stable.\n",
        "\n",
        "## 4. **Impact of Batch Size**\n",
        "Increasing the batch size generally improves test accuracy up to a certain point. However, if the batch size is **too large**, the model may **converge too quickly to sharp minima**, reducing generalization performance. A **moderate batch size** often provides the best trade-off between **stability** and **generalization**.\n"
      ]
    }
  ],
  "metadata": {
    "colab": {
      "provenance": []
    },
    "kernelspec": {
      "display_name": "Python 3",
      "language": "python",
      "name": "python3"
    },
    "language_info": {
      "codemirror_mode": {
        "name": "ipython",
        "version": 3
      },
      "file_extension": ".py",
      "mimetype": "text/x-python",
      "name": "python",
      "nbconvert_exporter": "python",
      "pygments_lexer": "ipython3",
      "version": "3.11.9"
    }
  },
  "nbformat": 4,
  "nbformat_minor": 5
}